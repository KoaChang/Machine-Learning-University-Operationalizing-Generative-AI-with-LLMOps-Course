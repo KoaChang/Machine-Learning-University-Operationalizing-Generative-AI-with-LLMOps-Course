{
 "cells": [
  {
   "cell_type": "markdown",
   "metadata": {},
   "source": [
    "###### 0\n",
    "\n",
    "<div style=\"background-image: linear-gradient(145deg, rgba(35, 47, 62, 1) 0%, rgba(0, 49, 129, 1) 40%, rgba(32, 116, 213, 1) 60%, rgba(244, 110, 197, 1) 85%, rgba(255, 173, 151, 1) 100%); padding: 1rem 2rem; width: 95%\"><img style=\"width: 60%;\" src=\"images/MLU_logo.png\"></div>\n",
    "\n",
    "# MLU Operationalizing Generative AI with LLMOps \n",
    "# <a name=\"p0\">Lab 2: Enhancing the capabilities of the RAG system</a>\n",
    "\n",
    "In this lab you will make improvements to the deployed application to enhance its capabilities. More concretely, you will first make changes to the database of documents that powers the RAG application and that is stored in Amazon Kendra. You will practice how to add or replace information to keep the knowledge base up to date and relevant.\n",
    "\n",
    "The second improvement is related to the response returned by the system. When using RAG to enhance the answer from the LLM, it is useful to provide links to the retrieved documents that are inserted into the context. You will learn how to modify the function that handles the system response to include this information in its output. This feature can support the addition of references that can be useful for the user. In addition to making modifications to the main app component that serves the response, you will practice how to adapt the tests to be able to build the modified app. \n",
    "\n",
    "## Table of Contents\n",
    "1. [Extend the knowledge database that powers RAG](#1)\n",
    "2. [Add links to relevant documents in the API response](#2)\n",
    "3. [Commit your changes and update the pipeline](#3)\n",
    "\n",
    "<br/>\n",
    "<div style=\"display: flex; align-items: center; justify-content: left; background-color:#330066; width:99%;\"> \n",
    "        <img style=\"float: left; max-width: 100%; max-height:100%; margin: 15px;\" src=\"images/MLU_robot.png\" alt=\"MLU robot\" width=\"100\" height=\"100\"/>\n",
    "    <span style=\"color: white; padding-left: 10px; align: left; margin: 15px;\">\n",
    "        This notebook assumes that you have already completed the following tasks:<br/>\n",
    "        <ul>\n",
    "            <li>Ran Lab 1: Interacting with the LLM-powered application.</li>\n",
    "            <li>Deployed changes to the system so that it returns a properly formatted response within <code style=\"color: lightcoral;\">&lt;answer&gt;</code> tags even for questions not related to AWS Lambda.</li>\n",
    "        </ul>\n",
    "    </span>\n",
    "</div>"
   ]
  },
  {
   "cell_type": "markdown",
   "metadata": {},
   "source": [
    "### Select the Jupyter Kernel\n",
    "\n",
    "In order to run this notebook, you need to use a Kernel. We will use the Kernel from the Python virtual environment provided with this package. \n",
    "\n",
    "**In VSCode**\n",
    "  - Click on \"Select Kernel\" on the top right of this window.\n",
    "  - Click on \"Python Environments\" on the text input bar at the top of this window.\n",
    "  - Select the `.venv (Python 3.12.x)` Virtual env, located in `{WorkspaceRoot}/src/{Alias}MLUCourseLLMOpsExperiment/.venv/bin/python`\n",
    "  - Double check that the Kernel shown on the top right of this window reads `.venv (Python 3.12.x)`\n",
    "\n",
    "  "
   ]
  },
  {
   "cell_type": "markdown",
   "metadata": {},
   "source": [
    "### A note about your development environment\n",
    "\n",
    "One of the key goals of this lab is to give you an experience as similar as possible to a real LLM operationalization process. \n",
    "\n",
    "Besides the data science environment based on Jupyter notebooks, where you can experiment with LLM models, you will also be required to run commands in a terminal window.\n",
    "\n",
    "Every time you see  an instruction to open a terminal and run a command, feel free to choose the terminal you are more comfortable with: \n",
    "+ A Terminal window with SSH to your Cloud Desktop, or\n",
    "+ The VS Code Terminal window. In this case, make sure to open the terminal in the same window that is connected to your Cloud Destop environment."
   ]
  },
  {
   "cell_type": "markdown",
   "metadata": {},
   "source": [
    "***\n",
    "\n",
    "We will reuse code from the previous lab to recreate the function that makes live requests to the system."
   ]
  },
  {
   "cell_type": "code",
   "execution_count": 2,
   "metadata": {},
   "outputs": [],
   "source": [
    "# Install and import the library that support AWS SigV4 requests\n",
    "!pip3 install -q requests-auth-aws-sigv4\n",
    "\n",
    "from IPython.display import Markdown, display\n",
    "\n",
    "import boto3\n",
    "import json\n",
    "import requests\n",
    "from requests_auth_aws_sigv4 import AWSSigV4\n",
    "\n",
    "from awscurl.awscurl import make_request\n",
    "\n",
    "session = boto3.Session(profile_name=\"MLU-LLMOps-Burner\")\n",
    "\n",
    "alias = %env USER\n",
    "MAIN_PACKAGE_NAME = f\"{alias.capitalize()}MLUCourseLLMOps\"\n",
    "\n",
    "aws_auth = AWSSigV4(\"cloudformation\", region=\"us-west-2\", session=session)\n",
    "url = f\"https://cloudformation.us-west-2.amazonaws.com?Action=DescribeStacks&StackName={MAIN_PACKAGE_NAME}-Service-alpha\"\n",
    "headers = {\"Accept\": \"application/json\"}\n",
    "\n",
    "r = requests.request(\"GET\", url, auth=aws_auth, headers=headers)\n",
    "outputs = r.json()[\"DescribeStacksResponse\"][\"DescribeStacksResult\"][\"Stacks\"][0][\"Outputs\"]\n",
    "api_endpoint = [output for output in outputs if output[\"ExportName\"]==f\"{MAIN_PACKAGE_NAME}-ApiUrl\"][0][\"OutputValue\"]\n",
    "\n",
    "def make_live_request(question):\n",
    "    credentials = session.get_credentials() \n",
    "    response = make_request(\n",
    "        uri=api_endpoint,\n",
    "        headers=headers,\n",
    "        method=\"POST\",\n",
    "        service=\"execute-api\",\n",
    "        data=json.dumps({\"question\": question}),\n",
    "        region=\"us-west-2\",\n",
    "        access_key=credentials.access_key,\n",
    "        secret_key=credentials.secret_key,\n",
    "        security_token=credentials.token,\n",
    "        data_binary=False\n",
    "    )\n",
    "    if response.status_code != 200:\n",
    "        return \"Request failed. Check the CloudWatch logs in your Lambda application.\"\n",
    "    else:\n",
    "        return response.json().get(\"answer\")"
   ]
  },
  {
   "cell_type": "markdown",
   "metadata": {},
   "source": [
    "***\n",
    "\n",
    "###### 1\n",
    "## <a>Part 1 - Extend the knowledge database that powers RAG</a>\n",
    "([Go to top](#0))\n",
    "\n",
    "LLMs are trained on massive datasets that allow them understand, summarize, and generate novel content. Most LLMs are trained on a wide range of public data so they can respond to many types of tasks or questions. But once trained, LLMs do not have the ability to access data beyond their training data. [Retrieval Augmented Generation (RAG)](https://aws.amazon.com/what-is/retrieval-augmented-generation/) extends the already powerful capabilities of LLMs to specific domains or an organization's internal knowledge base, all without the need to retrain the model. It is a cost-effective approach to improving LLM output so it remains relevant, accurate, and useful in various contexts.\n",
    "\n",
    "Your GenAI application has already been deployed with RAG capabilities and specific instructions to only use the information from the stored documents to produce its answers. The knowledge base is stored in Amazon Kendra and contains a snapshot of the [AWS Lambda user guide](https://docs.aws.amazon.com/lambda/) as of October 2023.\n",
    "\n",
    "### Amazon Kendra to store and search documents\n",
    "\n",
    "When BuilderHub Create cloned the GenAI application, it created an Amazon Kendra index as part of it. [Amazon Kendra](https://aws.amazon.com/pm/kendra/) provides a solution to store and search documents using natural language processing. Your application uses Amazon Kendra to power document retrieval for RAG prompting. \n",
    "\n",
    "<div style=\"display: flex; align-items: center; justify-content: left; background-color:#330066; width:99%;\"> \n",
    "        <img style=\"float: left; max-width: 100%; max-height:100%; margin: 15px;\" src=\"images/MLU_robot.png\" alt=\"MLU robot\" width=\"100\" height=\"100\"/>\n",
    "    <span style=\"color: white; padding-left: 10px; align: left; margin: 15px;\">\n",
    "        <b>Vector databases</b>\n",
    "    <br/><br/>\n",
    "        Amazon Kendra is not the only solution that can be used to power RAG-based generative AI application. \n",
    "        <br/><br/>Vector databases provide the ability to store and retrieve natural language data that has been encoded with an embedding model as high-dimensional points. \n",
    "        <br/><br/>Read <a style=\"color: lightskyblue;\" href=\"https://aws.amazon.com/what-is/vector-databases/\">here</a> to get more information about vector databases.\n",
    "    </span>\n",
    "</div>"
   ]
  },
  {
   "cell_type": "markdown",
   "metadata": {},
   "source": [
    "The code below fetches the Kendra index that will be needed to retrieve related documents. We then define a function that, given a query, returns the list of stored documents that are relevant to it. "
   ]
  },
  {
   "cell_type": "code",
   "execution_count": 3,
   "metadata": {},
   "outputs": [],
   "source": [
    "from langchain.tools import tool\n",
    "\n",
    "kendra = session.client(\"kendra\", region_name=\"us-west-2\")\n",
    "response = kendra.list_indices()\n",
    "KENDRA_INDEX_ID = response[\"IndexConfigurationSummaryItems\"][0][\"Id\"]\n",
    "\n",
    "\n",
    "@tool\n",
    "def retrieve_context(query: str) -> dict:\n",
    "    \"\"\"Retrieve the list of documents from Kendra that are relevant to the query\"\"\"\n",
    "    response = kendra.retrieve(\n",
    "        IndexId=KENDRA_INDEX_ID,\n",
    "        QueryText=query,\n",
    "        PageNumber=1,\n",
    "        PageSize=5,\n",
    "    )\n",
    "    documents = response[\"ResultItems\"]\n",
    "    document_ids = [document[\"DocumentId\"] for document in documents]\n",
    "    context = \"\\n\".join([document[\"Content\"] for document in documents])\n",
    "    return {\n",
    "        \"question\": query,\n",
    "        \"context\": context,\n",
    "        \"document_ids\": document_ids\n",
    "    }"
   ]
  },
  {
   "cell_type": "markdown",
   "metadata": {},
   "source": [
    "\n",
    "<div style=\"align: left; border: 4px solid lightcoral; text-align: left; margin: auto; padding-left: 20px; padding-right: 20px; width: 65%\">\n",
    "        <img style=\"float: left; margin: 15px;\" src=\"images/MLU_question.png\" alt=\"MLU question\" width=\"100\" height=\"100\"/>\n",
    "    <span style=\"padding: 20px; align: left;\">\n",
    "        <p><b>A note on Amazon Kendra</b><p/>\n",
    "        <p>Please note that Amazon Kendra is not free of charge. If you decide to use it in your production projects, check out <a href=\"https://aws.amazon.com/kendra/pricing\">its pricing</a>. Also note that the free tier option provides free usage of up to 750 hours for the first 30 days.</p>\n",
    "        <br/>\n",
    "    </span>\n",
    "</div>"
   ]
  },
  {
   "cell_type": "markdown",
   "metadata": {},
   "source": [
    "The Kendra document store, as it was created from the AWS Lambda user guide as of October 2023, misses knowledge about other AWS services. It also contains outdated information about AWS Lambda, as the service underwent updates between now and then. \n",
    "\n",
    "To demonstrate the shortcomings of RAG when the document store is incomplete or outdated, let's make requests to the live system with questions that are either not found in the database, or retrieve outdated or incomplete answers. "
   ]
  },
  {
   "cell_type": "code",
   "execution_count": 4,
   "metadata": {},
   "outputs": [
    {
     "data": {
      "text/markdown": [
       "## Questions about AWS Services"
      ],
      "text/plain": [
       "<IPython.core.display.Markdown object>"
      ]
     },
     "metadata": {},
     "output_type": "display_data"
    },
    {
     "data": {
      "text/markdown": [
       "**Is the .NET 8 runtime supported in AWS Lambda?**"
      ],
      "text/plain": [
       "<IPython.core.display.Markdown object>"
      ]
     },
     "metadata": {},
     "output_type": "display_data"
    },
    {
     "data": {
      "text/markdown": [
       "No, the .NET 8 runtime is not currently supported in AWS Lambda. The supported .NET runtimes for AWS Lambda are:\n",
       "\n",
       "- .NET 6\n",
       "- .NET 5\n",
       "- .NET Core 3.1\n",
       "\n",
       "The information provided in the context does not mention .NET 8 as a supported runtime for AWS Lambda. AWS Lambda typically adds support for new runtime versions over time, but .NET 8 has not been added yet."
      ],
      "text/plain": [
       "<IPython.core.display.Markdown object>"
      ]
     },
     "metadata": {},
     "output_type": "display_data"
    },
    {
     "data": {
      "text/markdown": [
       "**What built-in algorithms are supported in SageMaker?**"
      ],
      "text/plain": [
       "<IPython.core.display.Markdown object>"
      ]
     },
     "metadata": {},
     "output_type": "display_data"
    },
    {
     "data": {
      "text/markdown": [
       "Request failed. Check the CloudWatch logs in your Lambda application."
      ],
      "text/plain": [
       "<IPython.core.display.Markdown object>"
      ]
     },
     "metadata": {},
     "output_type": "display_data"
    }
   ],
   "source": [
    "unknown_questions = [\n",
    "    \"Is the .NET 8 runtime supported in AWS Lambda?\",\n",
    "    \"What built-in algorithms are supported in SageMaker?\",\n",
    "]\n",
    "\n",
    "display(Markdown(\"## Questions about AWS Services\"))\n",
    "for aws_q in unknown_questions:\n",
    "    display(Markdown(f\"**{aws_q}**\"))\n",
    "    display(Markdown(make_live_request(aws_q)))"
   ]
  },
  {
   "cell_type": "markdown",
   "metadata": {},
   "source": [
    "Compare the responses above with current information found elsewhere: \n",
    "\n",
    "* On .NET8 in AwS Lambda: https://aws.amazon.com/blogs/compute/introducing-the-net-8-runtime-for-aws-lambda/\n",
    "* On SageMaker built-in algorithms: https://docs.aws.amazon.com/sagemaker/latest/dg/algos.html"
   ]
  },
  {
   "cell_type": "markdown",
   "metadata": {},
   "source": [
    "### Incomplete information in Amazon Kendra\n",
    "\n",
    "Check that the retrieved documents from Kendra for the last question have low confidence, indicating that the relevant information to answer the question is missing from the document store:"
   ]
  },
  {
   "cell_type": "code",
   "execution_count": 5,
   "metadata": {},
   "outputs": [
    {
     "data": {
      "text/markdown": [
       "Context for question: **What built-in algorithms are supported in SageMaker?**"
      ],
      "text/plain": [
       "<IPython.core.display.Markdown object>"
      ]
     },
     "metadata": {},
     "output_type": "display_data"
    },
    {
     "data": {
      "text/plain": [
       "[{'Id': 'aef85dee-f588-4dbb-8fc5-0b737d4a7eff-9eb81109-6904-4c1a-9238-b2e5510e255f',\n",
       "  'DocumentId': 's3://koachangmlucoursellmops-data-datasetbucket9be8b15b-j7cq8iolcazu/rag/lambda-developer-guide-231030/runtimes-avx2.md',\n",
       "  'DocumentTitle': 'runtimes-avx2',\n",
       "  'Content': '# Using AVX2 vectorization in Lambda<a name=\"runtimes-avx2\"></a> Advanced Vector Extensions 2 \\\\(AVX2\\\\) is a vectorization extension to the Intel x86 instruction set that can perform single instruction multiple data \\\\(SIMD\\\\) instructions over vectors of 256 bits\\\\. For vectorizable algorithms with [highly parallelizable](https://en.wikipedia.org/wiki/Massively_parallel) operation, using AVX2 can enhance CPU performance, resulting in lower latencies and higher throughput\\\\. Use the AVX2 instruction set for compute\\\\-intensive workloads such as machine learning inferencing, multimedia processing, scientific simulations, and financial modeling applications\\\\. **Note** Lambda arm64 uses NEON SIMD architecture and does not support the x86 AVX2 extensions\\\\. To use AVX2 with your Lambda function, make sure that your function code is accessing AVX2\\\\-optimized code\\\\. For some languages, you can install the AVX2\\\\-supported version of libraries and packages\\\\. For other languages, you can recompile your code and dependencies with the appropriate compiler flags set \\\\(if the compiler supports auto\\\\-vectorization\\\\)\\\\. You can also compile your code with third\\\\-party libraries that use AVX2 to optimize math operations\\\\. For example, Intel Math Kernel Library \\\\(Intel MKL\\\\), OpenBLAS \\\\(Basic Linear Algebra Subprograms\\\\), and AMD BLAS\\\\-like Library Instantiation Software \\\\(BLIS\\\\)\\\\.',\n",
       "  'DocumentURI': 'https://s3.us-west-2.amazonaws.com/koachangmlucoursellmops-data-datasetbucket9be8b15b-j7cq8iolcazu/rag/lambda-developer-guide-231030/runtimes-avx2.md',\n",
       "  'DocumentAttributes': [{'Key': '_source_uri',\n",
       "    'Value': {'StringValue': 'https://s3.us-west-2.amazonaws.com/koachangmlucoursellmops-data-datasetbucket9be8b15b-j7cq8iolcazu/rag/lambda-developer-guide-231030/runtimes-avx2.md'}}],\n",
       "  'ScoreAttributes': {'ScoreConfidence': 'LOW'}},\n",
       " {'Id': 'aef85dee-f588-4dbb-8fc5-0b737d4a7eff-29735973-3952-4ee2-b4e1-f40c5133d8ed',\n",
       "  'DocumentId': 's3://koachangmlucoursellmops-data-datasetbucket9be8b15b-j7cq8iolcazu/rag/lambda-developer-guide-231030/CommonParameters.md',\n",
       "  'DocumentTitle': 'CommonParameters',\n",
       "  'Content': 'For more information about Signature Version 4, see [Signature Version 4 Signing Process](http://docs.aws.amazon.com/general/latest/gr/signature-version-4.html) in the *Amazon Web Services General Reference*\\\\. **Action** <a name=\"CommonParameters-Action\"></a> The action to be performed\\\\. Type: string Required: Yes **Version** <a name=\"CommonParameters-Version\"></a> The API version that the request is written for, expressed in the format YYYY\\\\-MM\\\\-DD\\\\. Type: string Required: Yes **X\\\\-Amz\\\\-Algorithm** <a name=\"CommonParameters-X-Amz-Algorithm\"></a> The hash algorithm that you used to create the request signature\\\\. Condition: Specify this parameter when you include authentication information in a query string instead of in the HTTP authorization header\\\\. Type: string Valid Values: `AWS4-HMAC-SHA256` Required: Conditional **X\\\\-Amz\\\\-Credential** <a name=\"CommonParameters-X-Amz-Credential\"></a> The credential scope value, which is a string that includes your access key, the date, the region you are targeting, the service you are requesting, and a termination string \\\\(\"aws4\\\\_request\"\\\\)\\\\. The value is expressed in the following format: *access\\\\_key*/*YYYYMMDD*/*region*/*service*/aws4\\\\_request\\\\. For more information, see [Task 2: Create a String to Sign for Signature Version 4](http://docs.aws.amazon.com/general/latest/gr/sigv4-create-string-to-sign.html) in the *Amazon Web Services General Reference*\\\\.',\n",
       "  'DocumentURI': 'https://s3.us-west-2.amazonaws.com/koachangmlucoursellmops-data-datasetbucket9be8b15b-j7cq8iolcazu/rag/lambda-developer-guide-231030/CommonParameters.md',\n",
       "  'DocumentAttributes': [{'Key': '_source_uri',\n",
       "    'Value': {'StringValue': 'https://s3.us-west-2.amazonaws.com/koachangmlucoursellmops-data-datasetbucket9be8b15b-j7cq8iolcazu/rag/lambda-developer-guide-231030/CommonParameters.md'}}],\n",
       "  'ScoreAttributes': {'ScoreConfidence': 'LOW'}},\n",
       " {'Id': 'aef85dee-f588-4dbb-8fc5-0b737d4a7eff-f8407c2f-3e9e-45ee-ad40-2d53451c5dc1',\n",
       "  'DocumentId': 's3://koachangmlucoursellmops-data-datasetbucket9be8b15b-j7cq8iolcazu/rag/lambda-developer-guide-231030/applications-tutorial.md',\n",
       "  'DocumentTitle': 'applications-tutorial',\n",
       "  'Content': 'To complete the following steps, you need a command line terminal or shell to run commands\\\\. Commands and the expected output are listed in separate blocks: ``` aws --version ``` You should see the following output: ``` aws-cli/2.0.57 Python/3.7.4 Darwin/19.6.0 exe/x86_64 ``` For long commands, an escape character \\\\(`\\\\`\\\\) is used to split a command over multiple lines\\\\. On Linux and macOS, use your preferred shell and package manager\\\\. **Note** On Windows, some Bash CLI commands that you commonly use with Lambda \\\\(such as `zip`\\\\) are not supported by the operating system\\'s built\\\\-in terminals\\\\. To get a Windows\\\\-integrated version of Ubuntu and Bash, [install the Windows Subsystem for Linux](https://docs.microsoft.com/en-us/windows/wsl/install-win10)\\\\. This tutorial uses CodeCommit for source control\\\\. To set up your local machine to access and update application code, see [Setting up](https://docs.aws.amazon.com/codecommit/latest/userguide/setting-up.html) in the *AWS CodeCommit User Guide*\\\\. ## Create an application<a name=\"applications-tutorial-wizard\"></a> Create an application in the Lambda console\\\\.',\n",
       "  'DocumentURI': 'https://s3.us-west-2.amazonaws.com/koachangmlucoursellmops-data-datasetbucket9be8b15b-j7cq8iolcazu/rag/lambda-developer-guide-231030/applications-tutorial.md',\n",
       "  'DocumentAttributes': [{'Key': '_source_uri',\n",
       "    'Value': {'StringValue': 'https://s3.us-west-2.amazonaws.com/koachangmlucoursellmops-data-datasetbucket9be8b15b-j7cq8iolcazu/rag/lambda-developer-guide-231030/applications-tutorial.md'}}],\n",
       "  'ScoreAttributes': {'ScoreConfidence': 'LOW'}},\n",
       " {'Id': 'aef85dee-f588-4dbb-8fc5-0b737d4a7eff-fcb75faa-c77d-4922-8991-a1827c4154c0',\n",
       "  'DocumentId': 's3://koachangmlucoursellmops-data-datasetbucket9be8b15b-j7cq8iolcazu/rag/lambda-developer-guide-231030/urls-tutorial.md',\n",
       "  'DocumentTitle': 'urls-tutorial',\n",
       "  'Content': 'Commands and the expected output are listed in separate blocks: ``` aws --version ``` You should see the following output: ``` aws-cli/2.0.57 Python/3.7.4 Darwin/19.6.0 exe/x86_64 ``` For long commands, an escape character \\\\(`\\\\`\\\\) is used to split a command over multiple lines\\\\. On Linux and macOS, use your preferred shell and package manager\\\\. **Note** On Windows, some Bash CLI commands that you commonly use with Lambda \\\\(such as `zip`\\\\) are not supported by the operating system\\'s built\\\\-in terminals\\\\. To get a Windows\\\\-integrated version of Ubuntu and Bash, [install the Windows Subsystem for Linux](https://docs.microsoft.com/en-us/windows/wsl/install-win10)\\\\. ## Create an execution role<a name=\"lambda-url-create-iam-role\"></a> Create the [execution role](lambda-intro-execution-role.md) that gives your Lambda function permission to access AWS resources\\\\. **To create an execution role** 1. Open the [Roles page](https://console.aws.amazon.com/iam/home#/roles) of the AWS Identity and Access Management \\\\(IAM\\\\) console\\\\. 1. Choose **Create role**\\\\. 1.',\n",
       "  'DocumentURI': 'https://s3.us-west-2.amazonaws.com/koachangmlucoursellmops-data-datasetbucket9be8b15b-j7cq8iolcazu/rag/lambda-developer-guide-231030/urls-tutorial.md',\n",
       "  'DocumentAttributes': [{'Key': '_source_uri',\n",
       "    'Value': {'StringValue': 'https://s3.us-west-2.amazonaws.com/koachangmlucoursellmops-data-datasetbucket9be8b15b-j7cq8iolcazu/rag/lambda-developer-guide-231030/urls-tutorial.md'}}],\n",
       "  'ScoreAttributes': {'ScoreConfidence': 'LOW'}},\n",
       " {'Id': 'aef85dee-f588-4dbb-8fc5-0b737d4a7eff-36eaf7cc-df26-4dd6-a030-74a25b783293',\n",
       "  'DocumentId': 's3://koachangmlucoursellmops-data-datasetbucket9be8b15b-j7cq8iolcazu/rag/lambda-developer-guide-231030/runtimes-walkthrough.md',\n",
       "  'DocumentTitle': 'runtimes-walkthrough',\n",
       "  'Content': \"Commands and the expected output are listed in separate blocks: ``` aws --version ``` You should see the following output: ``` aws-cli/2.0.57 Python/3.7.4 Darwin/19.6.0 exe/x86_64 ``` For long commands, an escape character \\\\(`\\\\`\\\\) is used to split a command over multiple lines\\\\. On Linux and macOS, use your preferred shell and package manager\\\\. **Note** On Windows, some Bash CLI commands that you commonly use with Lambda \\\\(such as `zip`\\\\) are not supported by the operating system's built\\\\-in terminals\\\\. To get a Windows\\\\-integrated version of Ubuntu and Bash, [install the Windows Subsystem for Linux](https://docs.microsoft.com/en-us/windows/wsl/install-win10)\\\\. You need an IAM role to create a Lambda function\\\\. The role needs permission to send logs to CloudWatch Logs and access the AWS services that your function uses\\\\. If you don't have a role for function development, create one now\\\\. **To create an execution role** 1. Open the [roles page](https://console.aws.amazon.com/iam/home#/roles) in the IAM console\\\\. 1. Choose **Create role**\\\\. 1.\",\n",
       "  'DocumentURI': 'https://s3.us-west-2.amazonaws.com/koachangmlucoursellmops-data-datasetbucket9be8b15b-j7cq8iolcazu/rag/lambda-developer-guide-231030/runtimes-walkthrough.md',\n",
       "  'DocumentAttributes': [{'Key': '_source_uri',\n",
       "    'Value': {'StringValue': 'https://s3.us-west-2.amazonaws.com/koachangmlucoursellmops-data-datasetbucket9be8b15b-j7cq8iolcazu/rag/lambda-developer-guide-231030/runtimes-walkthrough.md'}}],\n",
       "  'ScoreAttributes': {'ScoreConfidence': 'LOW'}}]"
      ]
     },
     "execution_count": 5,
     "metadata": {},
     "output_type": "execute_result"
    }
   ],
   "source": [
    "question = unknown_questions[-1]\n",
    "display(Markdown(f\"Context for question: **{question}**\"))\n",
    "response = kendra.retrieve(\n",
    "        IndexId=KENDRA_INDEX_ID,\n",
    "        QueryText=question,\n",
    "        PageNumber=1,\n",
    "        PageSize=5,\n",
    "    )\n",
    "documents = response[\"ResultItems\"]\n",
    "documents"
   ]
  },
  {
   "cell_type": "markdown",
   "metadata": {},
   "source": [
    "### Add documents to the Amazon Kendra store\n",
    "\n",
    "It seems apparent that including more relevant and comprehensive sources inside Kendra would improve the quality of the responses retrieved by the RAG system. Follow the set of instructions below to incorporate information into the system. \n",
    "\n",
    "<div style=\"align: left; border: 4px solid royalblue; text-align: left; margin: auto; padding-left: 20px; padding-right: 20px; width: 65%\">\n",
    "        <img style=\"float: left; max-width: 100%; max-height:100%; margin: 15px;\" src=\"images/MLU_challenge.png\" alt=\"MLU challenge\" width=15% height=15%/>\n",
    "    <span style=\"padding: 20px; align: left;\">\n",
    "        <p><b>Try it yourself!</b><p/>\n",
    "        <p><b>Exercise 1.</b> You can augment the knowlegde accessible to the RAG service by incorporating new data sources into the document store.\n",
    "        Follow these steps:</p>\n",
    "            <ol>\n",
    "                <li>From a Terminal in your Cloud Desktop, access your Data package and add data sources to extend the knowledge base of your RAG-based system.<br/>To do so, execute the cell below to get the exact commands that you need to run in the command line to create subfolders and place the provided files inside the Data package. Said files contain up-to-date information needed to correctly answer the questions about AWS services.</li><br/>\n",
    "            </ol>\n",
    "        <br/>\n",
    "    </span>\n",
    "</div>\n"
   ]
  },
  {
   "cell_type": "code",
   "execution_count": 6,
   "metadata": {},
   "outputs": [
    {
     "data": {
      "text/markdown": [
       "### Copy these commands and run them on your Cloud Desktop terminal to create subfolders and move files with additional information to your Data package."
      ],
      "text/plain": [
       "<IPython.core.display.Markdown object>"
      ]
     },
     "metadata": {},
     "output_type": "display_data"
    },
    {
     "name": "stdout",
     "output_type": "stream",
     "text": [
      "mkdir $(brazil-context workspace root)/src/KoachangMLUCourseLLMOpsData/public/rag/blogs\n",
      "mkdir $(brazil-context workspace root)/src/KoachangMLUCourseLLMOpsData/public/rag/sagemaker-developer-guide\n",
      "cp $(brazil-context workspace root)/src/KoachangMLUCourseLLMOpsExperiment/notebooks/solutions/blogs/*.md $(brazil-context workspace root)/src/KoachangMLUCourseLLMOpsData/public/rag/blogs\n",
      "cp $(brazil-context workspace root)/src/KoachangMLUCourseLLMOpsExperiment/notebooks/solutions/sagemaker-developer-guide/*.md $(brazil-context workspace root)/src/KoachangMLUCourseLLMOpsData/public/rag/sagemaker-developer-guide\n"
     ]
    }
   ],
   "source": [
    "display(Markdown(\"### Copy these commands and run them on your Cloud Desktop terminal to create subfolders and move files with additional information to your Data package.\"))\n",
    "\n",
    "print(f\"mkdir $(brazil-context workspace root)/src/{MAIN_PACKAGE_NAME}Data/public/rag/blogs\")\n",
    "print(f\"mkdir $(brazil-context workspace root)/src/{MAIN_PACKAGE_NAME}Data/public/rag/sagemaker-developer-guide\")\n",
    "\n",
    "print(f\"cp $(brazil-context workspace root)/src/{MAIN_PACKAGE_NAME}Experiment/notebooks/solutions/blogs/*.md $(brazil-context workspace root)/src/{MAIN_PACKAGE_NAME}Data/public/rag/blogs\")\n",
    "print(f\"cp $(brazil-context workspace root)/src/{MAIN_PACKAGE_NAME}Experiment/notebooks/solutions/sagemaker-developer-guide/*.md $(brazil-context workspace root)/src/{MAIN_PACKAGE_NAME}Data/public/rag/sagemaker-developer-guide\")"
   ]
  },
  {
   "cell_type": "markdown",
   "metadata": {},
   "source": [
    "<div style=\"align: left; border: 4px solid royalblue; text-align: left; margin: auto; padding-left: 20px; padding-right: 20px; width: 65%\">\n",
    "        <img style=\"float: left; max-width: 100%; max-height:100%; margin: 15px;\" src=\"images/MLU_challenge.png\" alt=\"MLU challenge\" width=15% height=15%/>\n",
    "    <span style=\"padding: 20px; align: left;\">\n",
    "        <br/><p>Continue with these steps:<p/>\n",
    "        <ol start=\"2\">\n",
    "            <li>Edit file <code>{Alias}MLUCourseLLMOpsData/public/rag_version.txt</code> to <code>1.1</code> (or any version number different from the current version)</li><br/>\n",
    "            <li>From a Terminal in your Cloud Desktop, build the Data application package. To do that, execute the cell below to get the exact commands that you need to run in the command line to trigger the build.<br/><br/>\n",
    "            <b>This will output <code>Non-building package; no work to do</code> but that is correct.</b></li><br/>\n",
    "        </ol>\n",
    "        <br/>\n",
    "    </span>\n",
    "</div>\n"
   ]
  },
  {
   "cell_type": "code",
   "execution_count": 7,
   "metadata": {},
   "outputs": [
    {
     "data": {
      "text/markdown": [
       "### Copy these commands and run them on your Cloud Desktop terminal to build the Data package."
      ],
      "text/plain": [
       "<IPython.core.display.Markdown object>"
      ]
     },
     "metadata": {},
     "output_type": "display_data"
    },
    {
     "name": "stdout",
     "output_type": "stream",
     "text": [
      "cd $(brazil-context workspace root)/src/KoachangMLUCourseLLMOpsData\n",
      "brazil-build\n"
     ]
    }
   ],
   "source": [
    "display(Markdown(\"### Copy these commands and run them on your Cloud Desktop terminal to build the Data package.\"))\n",
    "\n",
    "print(f\"cd $(brazil-context workspace root)/src/{MAIN_PACKAGE_NAME}Data\")\n",
    "\n",
    "print(f\"brazil-build\")"
   ]
  },
  {
   "cell_type": "markdown",
   "metadata": {},
   "source": [
    "<div style=\"align: left; border: 4px solid royalblue; text-align: left; margin: auto; padding-left: 20px; padding-right: 20px; width: 65%\">\n",
    "        <img style=\"float: left; max-width: 100%; max-height:100%; margin: 15px;\" src=\"images/MLU_challenge.png\" alt=\"MLU challenge\" width=15% height=15%/>\n",
    "    <span style=\"padding: 20px; align: left;\">\n",
    "        <br/><p>Continue with these steps:<p/>\n",
    "        <ol start=\"4\">\n",
    "            <li>From a Terminal in your Cloud Desktop, move to the CDK package, build it, and deploy the data stack. To do that, execute the cell below to get the exact commands that you need to run in the command line to trigger the build.<br/><br/>\n",
    "            <b>This step will take around 5 minutes.</b></li><br/>\n",
    "        </ol>\n",
    "        <br/>\n",
    "    </span>\n",
    "</div>\n"
   ]
  },
  {
   "cell_type": "code",
   "execution_count": 8,
   "metadata": {},
   "outputs": [
    {
     "data": {
      "text/markdown": [
       "### Copy these commands and run them on your Cloud Desktop terminal to deploy the data stack via CDK."
      ],
      "text/plain": [
       "<IPython.core.display.Markdown object>"
      ]
     },
     "metadata": {},
     "output_type": "display_data"
    },
    {
     "name": "stdout",
     "output_type": "stream",
     "text": [
      "cd $(brazil-context workspace root)/src/KoachangMLUCourseLLMOpsCDK\n",
      "brazil-build && brazil-build run cdk deploy KoachangMLUCourseLLMOps-Data-alpha\n"
     ]
    }
   ],
   "source": [
    "display(Markdown(\"### Copy these commands and run them on your Cloud Desktop terminal to deploy the data stack via CDK.\"))\n",
    "\n",
    "print(f\"cd $(brazil-context workspace root)/src/{MAIN_PACKAGE_NAME}CDK\")\n",
    "\n",
    "print(f\"brazil-build && brazil-build run cdk deploy {MAIN_PACKAGE_NAME}-Data-alpha\")"
   ]
  },
  {
   "cell_type": "markdown",
   "metadata": {},
   "source": [
    "Once you have successfully deployed your data stack, run the cell below and check whether the answers returned by the live system are now correct:"
   ]
  },
  {
   "cell_type": "code",
   "execution_count": 14,
   "metadata": {},
   "outputs": [
    {
     "data": {
      "text/markdown": [
       "## Questions about AWS Services"
      ],
      "text/plain": [
       "<IPython.core.display.Markdown object>"
      ]
     },
     "metadata": {},
     "output_type": "display_data"
    },
    {
     "data": {
      "text/markdown": [
       "**Is the .NET 8 runtime supported in AWS Lambda?**"
      ],
      "text/plain": [
       "<IPython.core.display.Markdown object>"
      ]
     },
     "metadata": {},
     "output_type": "display_data"
    },
    {
     "data": {
      "text/markdown": [
       "No, the .NET 8 runtime is not currently supported in AWS Lambda. The supported .NET runtimes for AWS Lambda are:\n",
       "\n",
       "- .NET 6\n",
       "- .NET 5\n",
       "- .NET Core 3.1\n",
       "\n",
       "The information provided in the context does not mention .NET 8 as a supported runtime for AWS Lambda. AWS Lambda typically adds support for new runtime versions over time, but .NET 8 has not been added yet."
      ],
      "text/plain": [
       "<IPython.core.display.Markdown object>"
      ]
     },
     "metadata": {},
     "output_type": "display_data"
    },
    {
     "data": {
      "text/markdown": [
       "**What built-in algorithms are supported in SageMaker?**"
      ],
      "text/plain": [
       "<IPython.core.display.Markdown object>"
      ]
     },
     "metadata": {},
     "output_type": "display_data"
    },
    {
     "data": {
      "text/markdown": [
       "Request failed. Check the CloudWatch logs in your Lambda application."
      ],
      "text/plain": [
       "<IPython.core.display.Markdown object>"
      ]
     },
     "metadata": {},
     "output_type": "display_data"
    }
   ],
   "source": [
    "display(Markdown(\"## Questions about AWS Services\"))\n",
    "for aws_q in unknown_questions:\n",
    "    display(Markdown(f\"**{aws_q}**\"))\n",
    "    display(Markdown(make_live_request(aws_q)))"
   ]
  },
  {
   "cell_type": "markdown",
   "metadata": {},
   "source": [
    "***\n",
    "\n",
    "###### 2\n",
    "## <a>Part 2 - Add links to relevant documents in the API response</a>\n",
    "([Go to top](#0))\n",
    "\n",
    "In this next exercise you are going to add a helpful improvement to the service: incorporate relevant links to the documents that RAG used to produce the system answer. This feature can be useful to double check that the system is not hallucinating information, and enhances the user's trust on the system response. \n",
    "\n",
    "Your deployed GenAI application serves its response by means of code present in the `handler.py` file present in your main application package: `{Alias}MLUCourseLLMOps/src/{alias}_mlu_course_llm_ops/handler.py`. You will now make changes to this file to include the relevant links to the retrieved files in the body response of the Lambda application. Accordingly, you will also need to modify the package tests to account for the change in the function response.  \n",
    "\n",
    "Follow the instructions below to apply the necessary modifications to the code, build the new version, and deploy it to your live system. \n",
    "\n",
    "<div style=\"align: left; border: 4px solid royalblue; text-align: left; margin: auto; padding-left: 20px; padding-right: 20px; width: 65%\">\n",
    "        <img style=\"float: left; max-width: 100%; max-height:100%; margin: 15px;\" src=\"images/MLU_challenge.png\" alt=\"MLU challenge\" width=15% height=15%/>\n",
    "    <span style=\"padding: 20px; align: left;\">\n",
    "        <p><b>Try it yourself!</b><p/>\n",
    "        <p><b>Exercise 2.</b> You can add links to relevant documents by modifying the code in the main application package.\n",
    "        Follow these steps in your VS Code IDE:</p>\n",
    "            <ol>\n",
    "                <li>Open the main package located in <code>{WORKSPACE_ROOT}/src/{Alias}MLUCourseLLMOps</code>.</li><br/>\n",
    "                <li>Navigate to <code>{Alias}MLUCourseLLMOps/src/{alias}_mlu_course_llm_ops/handler.py</code>.</li><br/>\n",
    "                <li>Incorporate the code shown below into the file <code>handler.py</code>. You need to make various edits:</li><br/>\n",
    "                <ul>\n",
    "                    <li>Import statements belong at the top.</li>\n",
    "                    <li>Function <code>get_link_from_document_id</code> needs to be placed close to other utility functions in <code>handler.py</code>.</li>\n",
    "                    <li>The <code>query_handler</code> function needs to be modified as shown below to add the relevant links.</li><br/>\n",
    "                </ul>\n",
    "                <li>Save the file <code>handler.py</code> when you're finished adding the modifications shown below.</li><br/>\n",
    "            </ol>\n",
    "        <br/>\n",
    "    </span>\n",
    "</div>\n",
    "\n"
   ]
  },
  {
   "cell_type": "code",
   "execution_count": 10,
   "metadata": {},
   "outputs": [
    {
     "data": {
      "text/markdown": [
       "### Click here to see the source code for the `handler.py` file"
      ],
      "text/plain": [
       "<IPython.core.display.Markdown object>"
      ]
     },
     "metadata": {},
     "output_type": "display_data"
    },
    {
     "name": "stdout",
     "output_type": "stream",
     "text": [
      "https://code.amazon.com/packages/KoachangMLUCourseLLMOps/blobs/mainline/--/src/koachang_mlu_course_llm_ops/handler.py\n"
     ]
    }
   ],
   "source": [
    "display(Markdown(\"### Click here to see the source code for the `handler.py` file\"))\n",
    "\n",
    "print(f\"https://code.amazon.com/packages/{MAIN_PACKAGE_NAME}/blobs/mainline/--/src/{alias}_mlu_course_llm_ops/handler.py\")"
   ]
  },
  {
   "cell_type": "markdown",
   "metadata": {},
   "source": [
    "### Modifications to be incorporated into the `handler.py` file\n",
    "\n",
    "Run the cell below to display the code to be added to `handler.py` in the main application package. \n",
    "\n",
    "Click on \"View as a scrollable element\" to display the full contents of the file. Be careful when porting the code to the `handler.py` file. "
   ]
  },
  {
   "cell_type": "code",
   "execution_count": 11,
   "metadata": {},
   "outputs": [
    {
     "name": "stdout",
     "output_type": "stream",
     "text": [
      "\u001b[0;34m\u001b[0m\n",
      "\u001b[0;34m\u001b[0m\u001b[0;32mimport\u001b[0m \u001b[0mre\u001b[0m\u001b[0;34m\u001b[0m\n",
      "\u001b[0;34m\u001b[0m\u001b[0;32mfrom\u001b[0m \u001b[0mtyping\u001b[0m \u001b[0;32mimport\u001b[0m \u001b[0mOptional\u001b[0m\u001b[0;34m\u001b[0m\n",
      "\u001b[0;34m\u001b[0m\u001b[0;34m\u001b[0m\n",
      "\u001b[0;34m\u001b[0m\u001b[0;34m...\u001b[0m\u001b[0;34m\u001b[0m\n",
      "\u001b[0;34m\u001b[0m\u001b[0;34m\u001b[0m\n",
      "\u001b[0;34m\u001b[0m\u001b[0;34m@\u001b[0m\u001b[0mtool\u001b[0m\u001b[0;34m\u001b[0m\n",
      "\u001b[0;34m\u001b[0m\u001b[0;32mdef\u001b[0m \u001b[0mretrieve_context\u001b[0m\u001b[0;34m(\u001b[0m\u001b[0mquery\u001b[0m\u001b[0;34m:\u001b[0m \u001b[0mstr\u001b[0m\u001b[0;34m)\u001b[0m \u001b[0;34m->\u001b[0m \u001b[0mdict\u001b[0m\u001b[0;34m:\u001b[0m\u001b[0;34m\u001b[0m\n",
      "\u001b[0;34m\u001b[0m    \u001b[0;34m\"\"\"Retrieve the list of documents from Kendra that are relevant to the query\"\"\"\u001b[0m\u001b[0;34m\u001b[0m\n",
      "\u001b[0;34m\u001b[0m    \u001b[0mresponse\u001b[0m \u001b[0;34m=\u001b[0m \u001b[0mkendra\u001b[0m\u001b[0;34m.\u001b[0m\u001b[0mretrieve\u001b[0m\u001b[0;34m(\u001b[0m\u001b[0;34m\u001b[0m\n",
      "\u001b[0;34m\u001b[0m        \u001b[0mIndexId\u001b[0m\u001b[0;34m=\u001b[0m\u001b[0mKENDRA_INDEX_ID\u001b[0m\u001b[0;34m,\u001b[0m\u001b[0;34m\u001b[0m\n",
      "\u001b[0;34m\u001b[0m        \u001b[0mQueryText\u001b[0m\u001b[0;34m=\u001b[0m\u001b[0mquery\u001b[0m\u001b[0;34m,\u001b[0m\u001b[0;34m\u001b[0m\n",
      "\u001b[0;34m\u001b[0m        \u001b[0mPageNumber\u001b[0m\u001b[0;34m=\u001b[0m\u001b[0;36m1\u001b[0m\u001b[0;34m,\u001b[0m\u001b[0;34m\u001b[0m\n",
      "\u001b[0;34m\u001b[0m        \u001b[0mPageSize\u001b[0m\u001b[0;34m=\u001b[0m\u001b[0;36m5\u001b[0m\u001b[0;34m,\u001b[0m\u001b[0;34m\u001b[0m\n",
      "\u001b[0;34m\u001b[0m    \u001b[0;34m)\u001b[0m\u001b[0;34m\u001b[0m\n",
      "\u001b[0;34m\u001b[0m    \u001b[0mdocuments\u001b[0m \u001b[0;34m=\u001b[0m \u001b[0mresponse\u001b[0m\u001b[0;34m[\u001b[0m\u001b[0;34m\"ResultItems\"\u001b[0m\u001b[0;34m]\u001b[0m\u001b[0;34m\u001b[0m\n",
      "\u001b[0;34m\u001b[0m    \u001b[0mdocument_ids\u001b[0m \u001b[0;34m=\u001b[0m \u001b[0;34m[\u001b[0m\u001b[0mdocument\u001b[0m\u001b[0;34m[\u001b[0m\u001b[0;34m\"DocumentId\"\u001b[0m\u001b[0;34m]\u001b[0m \u001b[0;32mfor\u001b[0m \u001b[0mdocument\u001b[0m \u001b[0;32min\u001b[0m \u001b[0mdocuments\u001b[0m\u001b[0;34m]\u001b[0m\u001b[0;34m\u001b[0m\n",
      "\u001b[0;34m\u001b[0m    \u001b[0mcontext\u001b[0m \u001b[0;34m=\u001b[0m \u001b[0;34m\"\\n\"\u001b[0m\u001b[0;34m.\u001b[0m\u001b[0mjoin\u001b[0m\u001b[0;34m(\u001b[0m\u001b[0;34m[\u001b[0m\u001b[0mdocument\u001b[0m\u001b[0;34m[\u001b[0m\u001b[0;34m\"Content\"\u001b[0m\u001b[0;34m]\u001b[0m \u001b[0;32mfor\u001b[0m \u001b[0mdocument\u001b[0m \u001b[0;32min\u001b[0m \u001b[0mdocuments\u001b[0m\u001b[0;34m]\u001b[0m\u001b[0;34m)\u001b[0m\u001b[0;34m\u001b[0m\n",
      "\u001b[0;34m\u001b[0m    \u001b[0;32mreturn\u001b[0m \u001b[0;34m{\u001b[0m\u001b[0;34m\u001b[0m\n",
      "\u001b[0;34m\u001b[0m        \u001b[0;34m\"question\"\u001b[0m\u001b[0;34m:\u001b[0m \u001b[0mquery\u001b[0m\u001b[0;34m,\u001b[0m\u001b[0;34m\u001b[0m\n",
      "\u001b[0;34m\u001b[0m        \u001b[0;34m\"context\"\u001b[0m\u001b[0;34m:\u001b[0m \u001b[0mcontext\u001b[0m\u001b[0;34m,\u001b[0m\u001b[0;34m\u001b[0m\n",
      "\u001b[0;34m\u001b[0m        \u001b[0;34m\"document_ids\"\u001b[0m\u001b[0;34m:\u001b[0m \u001b[0mdocument_ids\u001b[0m\u001b[0;34m,\u001b[0m\u001b[0;34m\u001b[0m\n",
      "\u001b[0;34m\u001b[0m    \u001b[0;34m}\u001b[0m\u001b[0;34m\u001b[0m\n",
      "\u001b[0;34m\u001b[0m\u001b[0;34m\u001b[0m\n",
      "\u001b[0;34m\u001b[0m\u001b[0;34m\u001b[0m\n",
      "\u001b[0;34m\u001b[0m\u001b[0;31m# Function to return a link mapping the retrieved document to its URL\u001b[0m\u001b[0;34m\u001b[0m\n",
      "\u001b[0;34m\u001b[0m\u001b[0;32mdef\u001b[0m \u001b[0mget_link_from_document_id\u001b[0m\u001b[0;34m(\u001b[0m\u001b[0mdocument_id\u001b[0m\u001b[0;34m:\u001b[0m \u001b[0mstr\u001b[0m\u001b[0;34m)\u001b[0m \u001b[0;34m->\u001b[0m \u001b[0mOptional\u001b[0m\u001b[0;34m[\u001b[0m\u001b[0mstr\u001b[0m\u001b[0;34m]\u001b[0m\u001b[0;34m:\u001b[0m\u001b[0;34m\u001b[0m\n",
      "\u001b[0;34m\u001b[0m    \u001b[0;32mif\u001b[0m \u001b[0mmatch\u001b[0m \u001b[0;34m:=\u001b[0m \u001b[0mre\u001b[0m\u001b[0;34m.\u001b[0m\u001b[0msearch\u001b[0m\u001b[0;34m(\u001b[0m\u001b[0;34m\"s3://.*?/rag/lambda-developer-guide-231030/(.*).md$\"\u001b[0m\u001b[0;34m,\u001b[0m \u001b[0mdocument_id\u001b[0m\u001b[0;34m)\u001b[0m\u001b[0;34m:\u001b[0m\u001b[0;34m\u001b[0m\n",
      "\u001b[0;34m\u001b[0m        \u001b[0mpath\u001b[0m \u001b[0;34m=\u001b[0m \u001b[0mmatch\u001b[0m\u001b[0;34m.\u001b[0m\u001b[0mgroup\u001b[0m\u001b[0;34m(\u001b[0m\u001b[0;36m1\u001b[0m\u001b[0;34m)\u001b[0m\u001b[0;34m\u001b[0m\n",
      "\u001b[0;34m\u001b[0m        \u001b[0;32mreturn\u001b[0m \u001b[0;34mf\"\u001b[0m\u001b[0;34mhttps://docs.aws.amazon.com/lambda/latest/dg/\u001b[0m\u001b[0;34m{\u001b[0m\u001b[0mpath\u001b[0m\u001b[0;34m}\u001b[0m\u001b[0;34m.html\u001b[0m\u001b[0;34m\"\u001b[0m\u001b[0;34m\u001b[0m\n",
      "\u001b[0;34m\u001b[0m\u001b[0;34m\u001b[0m\n",
      "\u001b[0;34m\u001b[0m    \u001b[0;32mif\u001b[0m \u001b[0mmatch\u001b[0m \u001b[0;34m:=\u001b[0m \u001b[0mre\u001b[0m\u001b[0;34m.\u001b[0m\u001b[0msearch\u001b[0m\u001b[0;34m(\u001b[0m\u001b[0;34m\"s3://.*?/rag/sagemaker-developer-guide/(.*).md$\"\u001b[0m\u001b[0;34m,\u001b[0m \u001b[0mdocument_id\u001b[0m\u001b[0;34m)\u001b[0m\u001b[0;34m:\u001b[0m\u001b[0;34m\u001b[0m\n",
      "\u001b[0;34m\u001b[0m        \u001b[0mpath\u001b[0m \u001b[0;34m=\u001b[0m \u001b[0mmatch\u001b[0m\u001b[0;34m.\u001b[0m\u001b[0mgroup\u001b[0m\u001b[0;34m(\u001b[0m\u001b[0;36m1\u001b[0m\u001b[0;34m)\u001b[0m\u001b[0;34m\u001b[0m\n",
      "\u001b[0;34m\u001b[0m        \u001b[0;32mreturn\u001b[0m \u001b[0;34mf\"\u001b[0m\u001b[0;34mhttps://docs.aws.amazon.com/sagemaker/latest/dg/\u001b[0m\u001b[0;34m{\u001b[0m\u001b[0mpath\u001b[0m\u001b[0;34m}\u001b[0m\u001b[0;34m.html\u001b[0m\u001b[0;34m\"\u001b[0m\u001b[0;34m\u001b[0m\n",
      "\u001b[0;34m\u001b[0m\u001b[0;34m\u001b[0m\n",
      "\u001b[0;34m\u001b[0m    \u001b[0;32mif\u001b[0m \u001b[0mmatch\u001b[0m \u001b[0;34m:=\u001b[0m \u001b[0mre\u001b[0m\u001b[0;34m.\u001b[0m\u001b[0msearch\u001b[0m\u001b[0;34m(\u001b[0m\u001b[0;34m\"s3://.*?/rag/blogs/(.*).md$\"\u001b[0m\u001b[0;34m,\u001b[0m \u001b[0mdocument_id\u001b[0m\u001b[0;34m)\u001b[0m\u001b[0;34m:\u001b[0m\u001b[0;34m\u001b[0m\n",
      "\u001b[0;34m\u001b[0m        \u001b[0mpath\u001b[0m \u001b[0;34m=\u001b[0m \u001b[0mmatch\u001b[0m\u001b[0;34m.\u001b[0m\u001b[0mgroup\u001b[0m\u001b[0;34m(\u001b[0m\u001b[0;36m1\u001b[0m\u001b[0;34m)\u001b[0m\u001b[0;34m\u001b[0m\n",
      "\u001b[0;34m\u001b[0m        \u001b[0;32mreturn\u001b[0m \u001b[0;34mf\"\u001b[0m\u001b[0;34mhttps://aws.amazon.com/blogs/compute/\u001b[0m\u001b[0;34m{\u001b[0m\u001b[0mpath\u001b[0m\u001b[0;34m}\u001b[0m\u001b[0;34m/\u001b[0m\u001b[0;34m\"\u001b[0m\u001b[0;34m\u001b[0m\n",
      "\u001b[0;34m\u001b[0m\u001b[0;34m\u001b[0m\n",
      "\u001b[0;34m\u001b[0m\u001b[0;34m...\u001b[0m\u001b[0;34m\u001b[0m\n",
      "\u001b[0;34m\u001b[0m\u001b[0;34m\u001b[0m\n",
      "\u001b[0;34m\u001b[0m\u001b[0;34m@\u001b[0m\u001b[0mapp\u001b[0m\u001b[0;34m.\u001b[0m\u001b[0mpost\u001b[0m\u001b[0;34m(\u001b[0m\u001b[0;34m\"/\"\u001b[0m\u001b[0;34m)\u001b[0m\u001b[0;34m\u001b[0m\n",
      "\u001b[0;34m\u001b[0m\u001b[0;32mdef\u001b[0m \u001b[0mquery_handler\u001b[0m\u001b[0;34m(\u001b[0m\u001b[0;34m)\u001b[0m \u001b[0;34m->\u001b[0m \u001b[0mstr\u001b[0m\u001b[0;34m:\u001b[0m\u001b[0;34m\u001b[0m\n",
      "\u001b[0;34m\u001b[0m    \u001b[0mpost_data\u001b[0m\u001b[0;34m:\u001b[0m \u001b[0mdict\u001b[0m \u001b[0;34m=\u001b[0m \u001b[0mapp\u001b[0m\u001b[0;34m.\u001b[0m\u001b[0mcurrent_event\u001b[0m\u001b[0;34m.\u001b[0m\u001b[0mjson_body\u001b[0m\u001b[0;34m\u001b[0m\n",
      "\u001b[0;34m\u001b[0m    \u001b[0mquestion\u001b[0m \u001b[0;34m=\u001b[0m \u001b[0mpost_data\u001b[0m\u001b[0;34m.\u001b[0m\u001b[0mget\u001b[0m\u001b[0;34m(\u001b[0m\u001b[0;34m\"question\"\u001b[0m\u001b[0;34m)\u001b[0m\u001b[0;34m\u001b[0m\n",
      "\u001b[0;34m\u001b[0m    \u001b[0;32mif\u001b[0m \u001b[0;32mnot\u001b[0m \u001b[0mquestion\u001b[0m\u001b[0;34m:\u001b[0m\u001b[0;34m\u001b[0m\n",
      "\u001b[0;34m\u001b[0m        \u001b[0;32mraise\u001b[0m \u001b[0mBadRequestError\u001b[0m\u001b[0;34m(\u001b[0m\u001b[0;34m\"Request must contain 'question' field\"\u001b[0m\u001b[0;34m)\u001b[0m\u001b[0;34m\u001b[0m\n",
      "\u001b[0;34m\u001b[0m\u001b[0;34m\u001b[0m\n",
      "\u001b[0;34m\u001b[0m    \u001b[0;32mwith\u001b[0m \u001b[0mget_bedrock_anthropic_callback\u001b[0m\u001b[0;34m(\u001b[0m\u001b[0;34m)\u001b[0m \u001b[0;32mas\u001b[0m \u001b[0mcb\u001b[0m\u001b[0;34m:\u001b[0m\u001b[0;34m\u001b[0m\n",
      "\u001b[0;34m\u001b[0m        \u001b[0manswer\u001b[0m \u001b[0;34m=\u001b[0m \u001b[0mget_chain\u001b[0m\u001b[0;34m(\u001b[0m\u001b[0;34m)\u001b[0m\u001b[0;34m.\u001b[0m\u001b[0minvoke\u001b[0m\u001b[0;34m(\u001b[0m\u001b[0mquestion\u001b[0m\u001b[0;34m)\u001b[0m\u001b[0;34m\u001b[0m\n",
      "\u001b[0;34m\u001b[0m        \u001b[0mmetrics\u001b[0m\u001b[0;34m.\u001b[0m\u001b[0madd_metric\u001b[0m\u001b[0;34m(\u001b[0m\u001b[0mname\u001b[0m\u001b[0;34m=\u001b[0m\u001b[0;34m\"InputTokens\"\u001b[0m\u001b[0;34m,\u001b[0m \u001b[0munit\u001b[0m\u001b[0;34m=\u001b[0m\u001b[0;34m\"Count\"\u001b[0m\u001b[0;34m,\u001b[0m \u001b[0mvalue\u001b[0m\u001b[0;34m=\u001b[0m\u001b[0mcb\u001b[0m\u001b[0;34m.\u001b[0m\u001b[0mprompt_tokens\u001b[0m\u001b[0;34m)\u001b[0m\u001b[0;34m\u001b[0m\n",
      "\u001b[0;34m\u001b[0m        \u001b[0mmetrics\u001b[0m\u001b[0;34m.\u001b[0m\u001b[0madd_metric\u001b[0m\u001b[0;34m(\u001b[0m\u001b[0mname\u001b[0m\u001b[0;34m=\u001b[0m\u001b[0;34m\"OutputTokens\"\u001b[0m\u001b[0;34m,\u001b[0m \u001b[0munit\u001b[0m\u001b[0;34m=\u001b[0m\u001b[0;34m\"Count\"\u001b[0m\u001b[0;34m,\u001b[0m \u001b[0mvalue\u001b[0m\u001b[0;34m=\u001b[0m\u001b[0mcb\u001b[0m\u001b[0;34m.\u001b[0m\u001b[0mcompletion_tokens\u001b[0m\u001b[0;34m)\u001b[0m\u001b[0;34m\u001b[0m\n",
      "\u001b[0;34m\u001b[0m        \u001b[0mmetrics\u001b[0m\u001b[0;34m.\u001b[0m\u001b[0madd_metric\u001b[0m\u001b[0;34m(\u001b[0m\u001b[0mname\u001b[0m\u001b[0;34m=\u001b[0m\u001b[0;34m\"TotalTokens\"\u001b[0m\u001b[0;34m,\u001b[0m \u001b[0munit\u001b[0m\u001b[0;34m=\u001b[0m\u001b[0;34m\"Count\"\u001b[0m\u001b[0;34m,\u001b[0m \u001b[0mvalue\u001b[0m\u001b[0;34m=\u001b[0m\u001b[0mcb\u001b[0m\u001b[0;34m.\u001b[0m\u001b[0mtotal_tokens\u001b[0m\u001b[0;34m)\u001b[0m\u001b[0;34m\u001b[0m\n",
      "\u001b[0;34m\u001b[0m\u001b[0;34m\u001b[0m\n",
      "\u001b[0;34m\u001b[0m    \u001b[0mdocument_ids\u001b[0m \u001b[0;34m=\u001b[0m \u001b[0mretrieve_context\u001b[0m\u001b[0;34m(\u001b[0m\u001b[0mquestion\u001b[0m\u001b[0;34m)\u001b[0m\u001b[0;34m[\u001b[0m\u001b[0;34m\"document_ids\"\u001b[0m\u001b[0;34m]\u001b[0m\u001b[0;34m\u001b[0m\n",
      "\u001b[0;34m\u001b[0m    \u001b[0mrelevant_links\u001b[0m \u001b[0;34m=\u001b[0m \u001b[0mset\u001b[0m\u001b[0;34m(\u001b[0m\u001b[0;34m[\u001b[0m\u001b[0mget_link_from_document_id\u001b[0m\u001b[0;34m(\u001b[0m\u001b[0mdoc_id\u001b[0m\u001b[0;34m)\u001b[0m \u001b[0;32mfor\u001b[0m \u001b[0mdoc_id\u001b[0m \u001b[0;32min\u001b[0m \u001b[0mdocument_ids\u001b[0m\u001b[0;34m]\u001b[0m\u001b[0;34m)\u001b[0m \u001b[0;34m\u001b[0m\n",
      "\u001b[0;34m\u001b[0m\u001b[0;34m\u001b[0m\n",
      "\u001b[0;34m\u001b[0m    \u001b[0;32mreturn\u001b[0m \u001b[0;34m{\u001b[0m\u001b[0;34m\"answer\"\u001b[0m\u001b[0;34m:\u001b[0m \u001b[0manswer\u001b[0m\u001b[0;34m.\u001b[0m\u001b[0mstrip\u001b[0m\u001b[0;34m(\u001b[0m\u001b[0;34m)\u001b[0m\u001b[0;34m,\u001b[0m \u001b[0;34m\"relevant_links\"\u001b[0m\u001b[0;34m:\u001b[0m \u001b[0mlist\u001b[0m\u001b[0;34m(\u001b[0m\u001b[0mrelevant_links\u001b[0m\u001b[0;34m)\u001b[0m\u001b[0;34m}\u001b[0m\u001b[0;34m\u001b[0m\u001b[0;34m\u001b[0m\u001b[0m\n"
     ]
    }
   ],
   "source": [
    "%pycat solutions/lab2_ex2_handler.txt"
   ]
  },
  {
   "cell_type": "markdown",
   "metadata": {},
   "source": [
    "<div style=\"align: left; border: 4px solid royalblue; text-align: left; margin: auto; padding-left: 20px; padding-right: 20px; width: 65%\">\n",
    "        <img style=\"float: left; max-width: 100%; max-height:100%; margin: 15px;\" src=\"images/MLU_challenge.png\" alt=\"MLU challenge\" width=15% height=15%/>\n",
    "    <span style=\"padding: 20px; align: left;\">\n",
    "    <br/>\n",
    "    <p>Continue with these steps:</p>\n",
    "            <ol start=\"5\">\n",
    "                <li>Locate the folder that contains the tests for the main application in <code>{WORKSPACE_ROOT}/src/{Alias}MLUCourseLLMOps/test/</code></li><br/>\n",
    "                <li>Modify the tests located in file <code>test_basic_llm_service.py</code>.<br/>You need to modify three test functions:</li><br/>\n",
    "                    <ul>\n",
    "                        <li><code>test_lambda_handler_returning_correct_format</code> and</li>\n",
    "                        <li><code>test_chain_receiving_contexts</code> and </li>\n",
    "                        <li><code>test_guardrailed_output</code>.</li><br/>\n",
    "                    </ul>\n",
    "                <li>Save the file <code>test_basic_llm_service.py</code> when you're finished adding the modifications shown below.</li><br/>\n",
    "            </ol>\n",
    "        <br/>\n",
    "    </span>\n",
    "</div>\n",
    "\n"
   ]
  },
  {
   "cell_type": "code",
   "execution_count": 2,
   "metadata": {},
   "outputs": [
    {
     "data": {
      "text/markdown": [
       "### Click here to see the source code for the `test_basic_llm_service.py` file"
      ],
      "text/plain": [
       "<IPython.core.display.Markdown object>"
      ]
     },
     "metadata": {},
     "output_type": "display_data"
    },
    {
     "name": "stdout",
     "output_type": "stream",
     "text": [
      "https://code.amazon.com/packages/KoachangMLUCourseLLMOps/blobs/mainline/--/test/test_basic_llm_service.py\n"
     ]
    }
   ],
   "source": [
    "display(Markdown(\"### Click here to see the source code for the `test_basic_llm_service.py` file\"))\n",
    "\n",
    "print(f\"https://code.amazon.com/packages/{MAIN_PACKAGE_NAME}/blobs/mainline/--/test/test_basic_llm_service.py\")"
   ]
  },
  {
   "cell_type": "markdown",
   "metadata": {},
   "source": [
    "### Modifications to be incorporated into the `test_basic_llm_service.py` file\n",
    "\n",
    "Run the cell below to display the code to be added to `test_basic_llm_service.py` in the main application package. \n",
    "\n",
    "Click on \"View as a scrollable element\" to display the full contents of the file. Be careful when porting the code to the `test_basic_llm_service.py` file. "
   ]
  },
  {
   "cell_type": "code",
   "execution_count": 9,
   "metadata": {},
   "outputs": [
    {
     "name": "stdout",
     "output_type": "stream",
     "text": [
      "\u001b[0;32mdef\u001b[0m \u001b[0mtest_lambda_handler_returning_correct_format\u001b[0m\u001b[0;34m(\u001b[0m\u001b[0;34m\u001b[0m\n",
      "\u001b[0;34m\u001b[0m        \u001b[0mmock_retrieve_context\u001b[0m\u001b[0;34m,\u001b[0m \u001b[0mmock_get_chain\u001b[0m\u001b[0;34m,\u001b[0m \u001b[0mmock_event\u001b[0m\u001b[0;34m\u001b[0m\n",
      "\u001b[0;34m\u001b[0m    \u001b[0;34m)\u001b[0m\u001b[0;34m:\u001b[0m\u001b[0;34m\u001b[0m\n",
      "\u001b[0;34m\u001b[0m    \u001b[0mmock_event\u001b[0m\u001b[0;34m[\u001b[0m\u001b[0;34m\"body\"\u001b[0m\u001b[0;34m]\u001b[0m \u001b[0;34m=\u001b[0m \u001b[0;34m'{\"question\": \"fake question\"}'\u001b[0m\u001b[0;34m\u001b[0m\n",
      "\u001b[0;34m\u001b[0m    \u001b[0mmock_get_chain\u001b[0m\u001b[0;34m.\u001b[0m\u001b[0mreturn_value\u001b[0m\u001b[0;34m.\u001b[0m\u001b[0minvoke\u001b[0m\u001b[0;34m.\u001b[0m\u001b[0mreturn_value\u001b[0m \u001b[0;34m=\u001b[0m \u001b[0;34m\"fake_answer\"\u001b[0m\u001b[0;34m\u001b[0m\n",
      "\u001b[0;34m\u001b[0m    \u001b[0mmock_retrieve_context\u001b[0m\u001b[0;34m.\u001b[0m\u001b[0mreturn_value\u001b[0m \u001b[0;34m=\u001b[0m \u001b[0;34m{\u001b[0m\u001b[0;34m\u001b[0m\n",
      "\u001b[0;34m\u001b[0m        \u001b[0;34m\"question\"\u001b[0m\u001b[0;34m:\u001b[0m \u001b[0;34m\"fake question\"\u001b[0m\u001b[0;34m,\u001b[0m\u001b[0;34m\u001b[0m\n",
      "\u001b[0;34m\u001b[0m        \u001b[0;34m\"context\"\u001b[0m\u001b[0;34m:\u001b[0m \u001b[0;34m\"Context Foo\\nContext Bar\"\u001b[0m\u001b[0;34m,\u001b[0m\u001b[0;34m\u001b[0m\n",
      "\u001b[0;34m\u001b[0m        \u001b[0;34m\"document_ids\"\u001b[0m\u001b[0;34m:\u001b[0m \u001b[0;34m[\u001b[0m\u001b[0;34m\u001b[0m\n",
      "\u001b[0;34m\u001b[0m            \u001b[0;34m\"s3://fake-bucket/rag/lambda-developer-guide-231030/foo.md\"\u001b[0m\u001b[0;34m,\u001b[0m\u001b[0;34m\u001b[0m\n",
      "\u001b[0;34m\u001b[0m            \u001b[0;34m\"s3://fake-bucket/rag/blogs/bar.md\"\u001b[0m\u001b[0;34m\u001b[0m\n",
      "\u001b[0;34m\u001b[0m            \u001b[0;34m]\u001b[0m\u001b[0;34m\u001b[0m\n",
      "\u001b[0;34m\u001b[0m        \u001b[0;34m}\u001b[0m\u001b[0;34m\u001b[0m\n",
      "\u001b[0;34m\u001b[0m\u001b[0;34m\u001b[0m\n",
      "\u001b[0;34m\u001b[0m    \u001b[0mresponse\u001b[0m \u001b[0;34m=\u001b[0m \u001b[0mlambda_handler\u001b[0m\u001b[0;34m(\u001b[0m\u001b[0mmock_event\u001b[0m\u001b[0;34m,\u001b[0m \u001b[0;32mNone\u001b[0m\u001b[0;34m)\u001b[0m\u001b[0;34m\u001b[0m\n",
      "\u001b[0;34m\u001b[0m\u001b[0;34m\u001b[0m\n",
      "\u001b[0;34m\u001b[0m    \u001b[0;32massert\u001b[0m \u001b[0mresponse\u001b[0m\u001b[0;34m.\u001b[0m\u001b[0mget\u001b[0m\u001b[0;34m(\u001b[0m\u001b[0;34m\"statusCode\"\u001b[0m\u001b[0;34m)\u001b[0m \u001b[0;34m==\u001b[0m \u001b[0mHTTPStatus\u001b[0m\u001b[0;34m.\u001b[0m\u001b[0mOK\u001b[0m\u001b[0;34m\u001b[0m\n",
      "\u001b[0;34m\u001b[0m    \u001b[0;32massert\u001b[0m \u001b[0mjson\u001b[0m\u001b[0;34m.\u001b[0m\u001b[0mloads\u001b[0m\u001b[0;34m(\u001b[0m\u001b[0mresponse\u001b[0m\u001b[0;34m.\u001b[0m\u001b[0mget\u001b[0m\u001b[0;34m(\u001b[0m\u001b[0;34m\"body\"\u001b[0m\u001b[0;34m)\u001b[0m\u001b[0;34m)\u001b[0m\u001b[0;34m.\u001b[0m\u001b[0mget\u001b[0m\u001b[0;34m(\u001b[0m\u001b[0;34m\"answer\"\u001b[0m\u001b[0;34m)\u001b[0m \u001b[0;34m==\u001b[0m \u001b[0;34m\"fake_answer\"\u001b[0m\u001b[0;34m\u001b[0m\n",
      "\u001b[0;34m\u001b[0m    \u001b[0;32massert\u001b[0m \u001b[0mset\u001b[0m\u001b[0;34m(\u001b[0m\u001b[0mjson\u001b[0m\u001b[0;34m.\u001b[0m\u001b[0mloads\u001b[0m\u001b[0;34m(\u001b[0m\u001b[0mresponse\u001b[0m\u001b[0;34m.\u001b[0m\u001b[0mget\u001b[0m\u001b[0;34m(\u001b[0m\u001b[0;34m\"body\"\u001b[0m\u001b[0;34m)\u001b[0m\u001b[0;34m)\u001b[0m\u001b[0;34m.\u001b[0m\u001b[0mget\u001b[0m\u001b[0;34m(\u001b[0m\u001b[0;34m\"relevant_links\"\u001b[0m\u001b[0;34m)\u001b[0m\u001b[0;34m)\u001b[0m \u001b[0;34m==\u001b[0m \u001b[0mset\u001b[0m\u001b[0;34m(\u001b[0m\u001b[0;34m[\u001b[0m\u001b[0;34m\u001b[0m\n",
      "\u001b[0;34m\u001b[0m        \u001b[0;34m\"https://docs.aws.amazon.com/lambda/latest/dg/foo.html\"\u001b[0m\u001b[0;34m,\u001b[0m\u001b[0;34m\u001b[0m\n",
      "\u001b[0;34m\u001b[0m        \u001b[0;34m\"https://aws.amazon.com/blogs/compute/bar/\"\u001b[0m\u001b[0;34m\u001b[0m\n",
      "\u001b[0;34m\u001b[0m    \u001b[0;34m]\u001b[0m\u001b[0;34m)\u001b[0m\u001b[0;34m\u001b[0m\n",
      "\u001b[0;34m\u001b[0m    \u001b[0;34m\u001b[0m\n",
      "\u001b[0;34m\u001b[0m\u001b[0;34m\u001b[0m\n",
      "\u001b[0;34m\u001b[0m\u001b[0;32mdef\u001b[0m \u001b[0mtest_chain_receiving_contexts\u001b[0m\u001b[0;34m(\u001b[0m\u001b[0mmock_aws\u001b[0m\u001b[0;34m,\u001b[0m \u001b[0mmock_prompt\u001b[0m\u001b[0;34m,\u001b[0m \u001b[0mmock_llm\u001b[0m\u001b[0;34m,\u001b[0m \u001b[0mmock_event\u001b[0m\u001b[0;34m)\u001b[0m\u001b[0;34m:\u001b[0m\u001b[0;34m\u001b[0m\n",
      "\u001b[0;34m\u001b[0m    \u001b[0mmock_event\u001b[0m\u001b[0;34m[\u001b[0m\u001b[0;34m\"body\"\u001b[0m\u001b[0;34m]\u001b[0m \u001b[0;34m=\u001b[0m \u001b[0;34m'{\"question\": \"fake question\"}'\u001b[0m\u001b[0;34m\u001b[0m\n",
      "\u001b[0;34m\u001b[0m\u001b[0;34m\u001b[0m\n",
      "\u001b[0;34m\u001b[0m    \u001b[0mmock_aws\u001b[0m\u001b[0;34m.\u001b[0m\u001b[0mside_effect\u001b[0m \u001b[0;34m=\u001b[0m \u001b[0;34m[\u001b[0m\u001b[0;34m\u001b[0m\n",
      "\u001b[0;34m\u001b[0m        \u001b[0;31m# The first AWS API call is to check the input against Bedrock Guardrail\u001b[0m\u001b[0;34m\u001b[0m\n",
      "\u001b[0;34m\u001b[0m        \u001b[0;34m{\u001b[0m\u001b[0;34m\u001b[0m\n",
      "\u001b[0;34m\u001b[0m            \u001b[0;34m\"action\"\u001b[0m\u001b[0;34m:\u001b[0m \u001b[0;34m\"NONE\"\u001b[0m\u001b[0;34m,\u001b[0m\u001b[0;34m\u001b[0m\n",
      "\u001b[0;34m\u001b[0m        \u001b[0;34m}\u001b[0m\u001b[0;34m,\u001b[0m\u001b[0;34m\u001b[0m\n",
      "\u001b[0;34m\u001b[0m        \u001b[0;31m# The second AWS API call is to retrieve contexts from Kendra\u001b[0m\u001b[0;34m\u001b[0m\n",
      "\u001b[0;34m\u001b[0m        \u001b[0;34m{\u001b[0m\u001b[0;34m\u001b[0m\n",
      "\u001b[0;34m\u001b[0m            \u001b[0;34m\"ResultItems\"\u001b[0m\u001b[0;34m:\u001b[0m \u001b[0;34m[\u001b[0m\u001b[0;34m\u001b[0m\n",
      "\u001b[0;34m\u001b[0m                \u001b[0;34m{\u001b[0m\u001b[0;34m\"Content\"\u001b[0m\u001b[0;34m:\u001b[0m \u001b[0;34m\"Content Foo\"\u001b[0m\u001b[0;34m,\u001b[0m \u001b[0;34m\"DocumentId\"\u001b[0m\u001b[0;34m:\u001b[0m \u001b[0;34m\"s3://fake-bucket/rag/lambda-developer-guide-231030/foo.md\"\u001b[0m\u001b[0;34m}\u001b[0m\u001b[0;34m,\u001b[0m\u001b[0;34m\u001b[0m\n",
      "\u001b[0;34m\u001b[0m                \u001b[0;34m{\u001b[0m\u001b[0;34m\"Content\"\u001b[0m\u001b[0;34m:\u001b[0m \u001b[0;34m\"Content Bar\"\u001b[0m\u001b[0;34m,\u001b[0m \u001b[0;34m\"DocumentId\"\u001b[0m\u001b[0;34m:\u001b[0m \u001b[0;34m\"s3://fake-bucket/rag/blogs/bar.md\"\u001b[0m\u001b[0;34m}\u001b[0m\u001b[0;34m,\u001b[0m\u001b[0;34m\u001b[0m\n",
      "\u001b[0;34m\u001b[0m            \u001b[0;34m]\u001b[0m\u001b[0;34m,\u001b[0m\u001b[0;34m\u001b[0m\n",
      "\u001b[0;34m\u001b[0m        \u001b[0;34m}\u001b[0m\u001b[0;34m,\u001b[0m\u001b[0;34m\u001b[0m\n",
      "\u001b[0;34m\u001b[0m        \u001b[0;31m# The third AWS API call is to check the output against Bedrock Guardrail\u001b[0m\u001b[0;34m\u001b[0m\n",
      "\u001b[0;34m\u001b[0m        \u001b[0;34m{\u001b[0m\u001b[0;34m\u001b[0m\n",
      "\u001b[0;34m\u001b[0m            \u001b[0;34m\"action\"\u001b[0m\u001b[0;34m:\u001b[0m \u001b[0;34m\"NONE\"\u001b[0m\u001b[0;34m,\u001b[0m\u001b[0;34m\u001b[0m\n",
      "\u001b[0;34m\u001b[0m        \u001b[0;34m}\u001b[0m\u001b[0;34m,\u001b[0m\u001b[0;34m\u001b[0m\n",
      "\u001b[0;34m\u001b[0m        \u001b[0;31m# The fourth AWS API call is to retrieve contexts from Kendra\u001b[0m\u001b[0;34m\u001b[0m\n",
      "\u001b[0;34m\u001b[0m        \u001b[0;34m{\u001b[0m\u001b[0;34m\u001b[0m\n",
      "\u001b[0;34m\u001b[0m            \u001b[0;34m\"ResultItems\"\u001b[0m\u001b[0;34m:\u001b[0m \u001b[0;34m[\u001b[0m\u001b[0;34m\u001b[0m\n",
      "\u001b[0;34m\u001b[0m                \u001b[0;34m{\u001b[0m\u001b[0;34m\"Content\"\u001b[0m\u001b[0;34m:\u001b[0m \u001b[0;34m\"Content Foo\"\u001b[0m\u001b[0;34m,\u001b[0m \u001b[0;34m\"DocumentId\"\u001b[0m\u001b[0;34m:\u001b[0m \u001b[0;34m\"s3://fake-bucket/rag/lambda-developer-guide-231030/foo.md\"\u001b[0m\u001b[0;34m}\u001b[0m\u001b[0;34m,\u001b[0m\u001b[0;34m\u001b[0m\n",
      "\u001b[0;34m\u001b[0m                \u001b[0;34m{\u001b[0m\u001b[0;34m\"Content\"\u001b[0m\u001b[0;34m:\u001b[0m \u001b[0;34m\"Content Bar\"\u001b[0m\u001b[0;34m,\u001b[0m \u001b[0;34m\"DocumentId\"\u001b[0m\u001b[0;34m:\u001b[0m \u001b[0;34m\"s3://fake-bucket/rag/blogs/bar.md\"\u001b[0m\u001b[0;34m}\u001b[0m\u001b[0;34m,\u001b[0m\u001b[0;34m\u001b[0m\n",
      "\u001b[0;34m\u001b[0m            \u001b[0;34m]\u001b[0m\u001b[0;34m,\u001b[0m\u001b[0;34m\u001b[0m\n",
      "\u001b[0;34m\u001b[0m        \u001b[0;34m}\u001b[0m\u001b[0;34m,\u001b[0m\u001b[0;34m\u001b[0m\n",
      "\u001b[0;34m\u001b[0m    \u001b[0;34m]\u001b[0m\u001b[0;34m\u001b[0m\n",
      "\u001b[0;34m\u001b[0m\u001b[0;34m\u001b[0m\n",
      "\u001b[0;34m\u001b[0m    \u001b[0mmock_llm\u001b[0m\u001b[0;34m.\u001b[0m\u001b[0mreturn_value\u001b[0m \u001b[0;34m=\u001b[0m \u001b[0;34m\"<answer>fake-answer</answer>\"\u001b[0m\u001b[0;34m\u001b[0m\n",
      "\u001b[0;34m\u001b[0m\u001b[0;34m\u001b[0m\n",
      "\u001b[0;34m\u001b[0m    \u001b[0mlambda_handler\u001b[0m\u001b[0;34m(\u001b[0m\u001b[0mmock_event\u001b[0m\u001b[0;34m,\u001b[0m \u001b[0;32mNone\u001b[0m\u001b[0;34m)\u001b[0m\u001b[0;34m\u001b[0m\n",
      "\u001b[0;34m\u001b[0m\u001b[0;34m\u001b[0m\n",
      "\u001b[0;34m\u001b[0m    \u001b[0;32massert\u001b[0m \u001b[0mmock_aws\u001b[0m\u001b[0;34m.\u001b[0m\u001b[0mcall_args_list\u001b[0m \u001b[0;34m==\u001b[0m \u001b[0;34m[\u001b[0m\u001b[0;34m\u001b[0m\n",
      "\u001b[0;34m\u001b[0m        \u001b[0mcall\u001b[0m\u001b[0;34m(\u001b[0m\u001b[0;34m\u001b[0m\n",
      "\u001b[0;34m\u001b[0m            \u001b[0;34m\"ApplyGuardrail\"\u001b[0m\u001b[0;34m,\u001b[0m\u001b[0;34m\u001b[0m\n",
      "\u001b[0;34m\u001b[0m            \u001b[0;34m{\u001b[0m\u001b[0;34m\u001b[0m\n",
      "\u001b[0;34m\u001b[0m                \u001b[0;34m\"guardrailIdentifier\"\u001b[0m\u001b[0;34m:\u001b[0m \u001b[0;34m\"fake-guardrail-id\"\u001b[0m\u001b[0;34m,\u001b[0m\u001b[0;34m\u001b[0m\n",
      "\u001b[0;34m\u001b[0m                \u001b[0;34m\"guardrailVersion\"\u001b[0m\u001b[0;34m:\u001b[0m \u001b[0;34m\"fake-guardrail-version\"\u001b[0m\u001b[0;34m,\u001b[0m\u001b[0;34m\u001b[0m\n",
      "\u001b[0;34m\u001b[0m                \u001b[0;34m\"source\"\u001b[0m\u001b[0;34m:\u001b[0m \u001b[0;34m\"INPUT\"\u001b[0m\u001b[0;34m,\u001b[0m\u001b[0;34m\u001b[0m\n",
      "\u001b[0;34m\u001b[0m                \u001b[0;34m\"content\"\u001b[0m\u001b[0;34m:\u001b[0m \u001b[0;34m[\u001b[0m\u001b[0;34m{\u001b[0m\u001b[0;34m\"text\"\u001b[0m\u001b[0;34m:\u001b[0m \u001b[0;34m{\u001b[0m\u001b[0;34m\"text\"\u001b[0m\u001b[0;34m:\u001b[0m \u001b[0;34m\"fake question\"\u001b[0m\u001b[0;34m,\u001b[0m \u001b[0;34m\"qualifiers\"\u001b[0m\u001b[0;34m:\u001b[0m \u001b[0;34m[\u001b[0m\u001b[0;34m\"guard_content\"\u001b[0m\u001b[0;34m]\u001b[0m\u001b[0;34m}\u001b[0m\u001b[0;34m}\u001b[0m\u001b[0;34m]\u001b[0m\u001b[0;34m,\u001b[0m\u001b[0;34m\u001b[0m\n",
      "\u001b[0;34m\u001b[0m            \u001b[0;34m}\u001b[0m\u001b[0;34m,\u001b[0m\u001b[0;34m\u001b[0m\n",
      "\u001b[0;34m\u001b[0m        \u001b[0;34m)\u001b[0m\u001b[0;34m,\u001b[0m\u001b[0;34m\u001b[0m\n",
      "\u001b[0;34m\u001b[0m        \u001b[0mcall\u001b[0m\u001b[0;34m(\u001b[0m\u001b[0;34m\u001b[0m\n",
      "\u001b[0;34m\u001b[0m            \u001b[0;34m\"Retrieve\"\u001b[0m\u001b[0;34m,\u001b[0m\u001b[0;34m\u001b[0m\n",
      "\u001b[0;34m\u001b[0m            \u001b[0;34m{\u001b[0m\u001b[0;34m\u001b[0m\n",
      "\u001b[0;34m\u001b[0m                \u001b[0;34m\"IndexId\"\u001b[0m\u001b[0;34m:\u001b[0m \u001b[0;34m\"fake-kendra-index-id-lorem-ipsum-dolor-sit-amet\"\u001b[0m\u001b[0;34m,\u001b[0m\u001b[0;34m\u001b[0m\n",
      "\u001b[0;34m\u001b[0m                \u001b[0;34m\"QueryText\"\u001b[0m\u001b[0;34m:\u001b[0m \u001b[0;34m\"fake question\"\u001b[0m\u001b[0;34m,\u001b[0m\u001b[0;34m\u001b[0m\n",
      "\u001b[0;34m\u001b[0m                \u001b[0;34m\"PageNumber\"\u001b[0m\u001b[0;34m:\u001b[0m \u001b[0;36m1\u001b[0m\u001b[0;34m,\u001b[0m\u001b[0;34m\u001b[0m\n",
      "\u001b[0;34m\u001b[0m                \u001b[0;34m\"PageSize\"\u001b[0m\u001b[0;34m:\u001b[0m \u001b[0;36m5\u001b[0m\u001b[0;34m,\u001b[0m\u001b[0;34m\u001b[0m\n",
      "\u001b[0;34m\u001b[0m            \u001b[0;34m}\u001b[0m\u001b[0;34m,\u001b[0m\u001b[0;34m\u001b[0m\n",
      "\u001b[0;34m\u001b[0m        \u001b[0;34m)\u001b[0m\u001b[0;34m,\u001b[0m\u001b[0;34m\u001b[0m\n",
      "\u001b[0;34m\u001b[0m        \u001b[0mcall\u001b[0m\u001b[0;34m(\u001b[0m\u001b[0;34m\u001b[0m\n",
      "\u001b[0;34m\u001b[0m            \u001b[0;34m\"ApplyGuardrail\"\u001b[0m\u001b[0;34m,\u001b[0m\u001b[0;34m\u001b[0m\n",
      "\u001b[0;34m\u001b[0m            \u001b[0;34m{\u001b[0m\u001b[0;34m\u001b[0m\n",
      "\u001b[0;34m\u001b[0m                \u001b[0;34m\"guardrailIdentifier\"\u001b[0m\u001b[0;34m:\u001b[0m \u001b[0;34m\"fake-guardrail-id\"\u001b[0m\u001b[0;34m,\u001b[0m\u001b[0;34m\u001b[0m\n",
      "\u001b[0;34m\u001b[0m                \u001b[0;34m\"guardrailVersion\"\u001b[0m\u001b[0;34m:\u001b[0m \u001b[0;34m\"fake-guardrail-version\"\u001b[0m\u001b[0;34m,\u001b[0m\u001b[0;34m\u001b[0m\n",
      "\u001b[0;34m\u001b[0m                \u001b[0;34m\"source\"\u001b[0m\u001b[0;34m:\u001b[0m \u001b[0;34m\"INPUT\"\u001b[0m\u001b[0;34m,\u001b[0m\u001b[0;34m\u001b[0m\n",
      "\u001b[0;34m\u001b[0m                \u001b[0;34m\"content\"\u001b[0m\u001b[0;34m:\u001b[0m \u001b[0;34m[\u001b[0m\u001b[0;34m{\u001b[0m\u001b[0;34m\"text\"\u001b[0m\u001b[0;34m:\u001b[0m \u001b[0;34m{\u001b[0m\u001b[0;34m\"text\"\u001b[0m\u001b[0;34m:\u001b[0m \u001b[0;34m\"fake-answer\"\u001b[0m\u001b[0;34m,\u001b[0m \u001b[0;34m\"qualifiers\"\u001b[0m\u001b[0;34m:\u001b[0m \u001b[0;34m[\u001b[0m\u001b[0;34m\"guard_content\"\u001b[0m\u001b[0;34m]\u001b[0m\u001b[0;34m}\u001b[0m\u001b[0;34m}\u001b[0m\u001b[0;34m]\u001b[0m\u001b[0;34m,\u001b[0m\u001b[0;34m\u001b[0m\n",
      "\u001b[0;34m\u001b[0m            \u001b[0;34m}\u001b[0m\u001b[0;34m,\u001b[0m\u001b[0;34m\u001b[0m\n",
      "\u001b[0;34m\u001b[0m        \u001b[0;34m)\u001b[0m\u001b[0;34m,\u001b[0m\u001b[0;34m\u001b[0m\n",
      "\u001b[0;34m\u001b[0m        \u001b[0mcall\u001b[0m\u001b[0;34m(\u001b[0m\u001b[0;34m\u001b[0m\n",
      "\u001b[0;34m\u001b[0m            \u001b[0;34m\"Retrieve\"\u001b[0m\u001b[0;34m,\u001b[0m\u001b[0;34m\u001b[0m\n",
      "\u001b[0;34m\u001b[0m            \u001b[0;34m{\u001b[0m\u001b[0;34m\u001b[0m\n",
      "\u001b[0;34m\u001b[0m                \u001b[0;34m\"IndexId\"\u001b[0m\u001b[0;34m:\u001b[0m \u001b[0;34m\"fake-kendra-index-id-lorem-ipsum-dolor-sit-amet\"\u001b[0m\u001b[0;34m,\u001b[0m\u001b[0;34m\u001b[0m\n",
      "\u001b[0;34m\u001b[0m                \u001b[0;34m\"QueryText\"\u001b[0m\u001b[0;34m:\u001b[0m \u001b[0;34m\"fake question\"\u001b[0m\u001b[0;34m,\u001b[0m\u001b[0;34m\u001b[0m\n",
      "\u001b[0;34m\u001b[0m                \u001b[0;34m\"PageNumber\"\u001b[0m\u001b[0;34m:\u001b[0m \u001b[0;36m1\u001b[0m\u001b[0;34m,\u001b[0m\u001b[0;34m\u001b[0m\n",
      "\u001b[0;34m\u001b[0m                \u001b[0;34m\"PageSize\"\u001b[0m\u001b[0;34m:\u001b[0m \u001b[0;36m5\u001b[0m\u001b[0;34m,\u001b[0m\u001b[0;34m\u001b[0m\n",
      "\u001b[0;34m\u001b[0m            \u001b[0;34m}\u001b[0m\u001b[0;34m,\u001b[0m\u001b[0;34m\u001b[0m\n",
      "\u001b[0;34m\u001b[0m        \u001b[0;34m)\u001b[0m\u001b[0;34m,\u001b[0m\u001b[0;34m\u001b[0m\n",
      "\u001b[0;34m\u001b[0m    \u001b[0;34m]\u001b[0m\u001b[0;34m\u001b[0m\n",
      "\u001b[0;34m\u001b[0m\u001b[0;34m\u001b[0m\n",
      "\u001b[0;34m\u001b[0m    \u001b[0;32massert\u001b[0m \u001b[0mmock_prompt\u001b[0m\u001b[0;34m.\u001b[0m\u001b[0mcall_args_list\u001b[0m \u001b[0;34m==\u001b[0m \u001b[0;34m[\u001b[0m\u001b[0;34m\u001b[0m\n",
      "\u001b[0;34m\u001b[0m        \u001b[0mcall\u001b[0m\u001b[0;34m(\u001b[0m\u001b[0;34m{\u001b[0m\u001b[0;34m\u001b[0m\n",
      "\u001b[0;34m\u001b[0m            \u001b[0;34m\"question\"\u001b[0m\u001b[0;34m:\u001b[0m \u001b[0;34m\"fake question\"\u001b[0m\u001b[0;34m,\u001b[0m\u001b[0;34m\u001b[0m\n",
      "\u001b[0;34m\u001b[0m            \u001b[0;34m\"context\"\u001b[0m\u001b[0;34m:\u001b[0m \u001b[0;34m\"Content Foo\\nContent Bar\"\u001b[0m\u001b[0;34m,\u001b[0m\u001b[0;34m\u001b[0m\n",
      "\u001b[0;34m\u001b[0m            \u001b[0;34m\"document_ids\"\u001b[0m\u001b[0;34m:\u001b[0m \u001b[0;34m[\u001b[0m\u001b[0;34m\u001b[0m\n",
      "\u001b[0;34m\u001b[0m                \u001b[0;34m\"s3://fake-bucket/rag/lambda-developer-guide-231030/foo.md\"\u001b[0m\u001b[0;34m,\u001b[0m\u001b[0;34m\u001b[0m\n",
      "\u001b[0;34m\u001b[0m                \u001b[0;34m\"s3://fake-bucket/rag/blogs/bar.md\"\u001b[0m\u001b[0;34m\u001b[0m\n",
      "\u001b[0;34m\u001b[0m            \u001b[0;34m]\u001b[0m\u001b[0;34m}\u001b[0m\u001b[0;34m)\u001b[0m\u001b[0;34m\u001b[0m\n",
      "\u001b[0;34m\u001b[0m    \u001b[0;34m]\u001b[0m \u001b[0;34m\u001b[0m\n",
      "\u001b[0;34m\u001b[0m\u001b[0;34m\u001b[0m\n",
      "\u001b[0;34m\u001b[0m\u001b[0;34m\u001b[0m\n",
      "\u001b[0;34m\u001b[0m\u001b[0;32mdef\u001b[0m \u001b[0mtest_guardrailed_output\u001b[0m\u001b[0;34m(\u001b[0m\u001b[0mmock_aws\u001b[0m\u001b[0;34m,\u001b[0m \u001b[0mmock_event\u001b[0m\u001b[0;34m,\u001b[0m \u001b[0mmock_llm\u001b[0m\u001b[0;34m)\u001b[0m\u001b[0;34m:\u001b[0m\u001b[0;34m\u001b[0m\n",
      "\u001b[0;34m\u001b[0m    \u001b[0mmock_event\u001b[0m\u001b[0;34m[\u001b[0m\u001b[0;34m\"body\"\u001b[0m\u001b[0;34m]\u001b[0m \u001b[0;34m=\u001b[0m \u001b[0;34m'{\"question\": \"fake question\"}'\u001b[0m\u001b[0;34m\u001b[0m\n",
      "\u001b[0;34m\u001b[0m\u001b[0;34m\u001b[0m\n",
      "\u001b[0;34m\u001b[0m    \u001b[0mmock_aws\u001b[0m\u001b[0;34m.\u001b[0m\u001b[0mside_effect\u001b[0m \u001b[0;34m=\u001b[0m \u001b[0;34m[\u001b[0m\u001b[0;34m\u001b[0m\n",
      "\u001b[0;34m\u001b[0m        \u001b[0;31m# The first AWS API call is to check the input against Bedrock Guardrail\u001b[0m\u001b[0;34m\u001b[0m\n",
      "\u001b[0;34m\u001b[0m        \u001b[0;34m{\u001b[0m\u001b[0;34m\u001b[0m\n",
      "\u001b[0;34m\u001b[0m            \u001b[0;34m\"action\"\u001b[0m\u001b[0;34m:\u001b[0m \u001b[0;34m\"NONE\"\u001b[0m\u001b[0;34m,\u001b[0m\u001b[0;34m\u001b[0m\n",
      "\u001b[0;34m\u001b[0m        \u001b[0;34m}\u001b[0m\u001b[0;34m,\u001b[0m\u001b[0;34m\u001b[0m\n",
      "\u001b[0;34m\u001b[0m        \u001b[0;31m# The second AWS API call is to retrieve contexts from Kendra\u001b[0m\u001b[0;34m\u001b[0m\n",
      "\u001b[0;34m\u001b[0m        \u001b[0;34m{\u001b[0m\u001b[0;34m\u001b[0m\n",
      "\u001b[0;34m\u001b[0m            \u001b[0;34m\"ResultItems\"\u001b[0m\u001b[0;34m:\u001b[0m \u001b[0;34m[\u001b[0m\u001b[0;34m\u001b[0m\n",
      "\u001b[0;34m\u001b[0m                \u001b[0;34m{\u001b[0m\u001b[0;34m\"Content\"\u001b[0m\u001b[0;34m:\u001b[0m \u001b[0;34m\"Content Foo\"\u001b[0m\u001b[0;34m,\u001b[0m \u001b[0;34m\"DocumentId\"\u001b[0m\u001b[0;34m:\u001b[0m \u001b[0;34m\"s3://fake-bucket/rag/lambda-developer-guide-231030/foo.md\"\u001b[0m\u001b[0;34m}\u001b[0m\u001b[0;34m,\u001b[0m\u001b[0;34m\u001b[0m\n",
      "\u001b[0;34m\u001b[0m                \u001b[0;34m{\u001b[0m\u001b[0;34m\"Content\"\u001b[0m\u001b[0;34m:\u001b[0m \u001b[0;34m\"Content Bar\"\u001b[0m\u001b[0;34m,\u001b[0m \u001b[0;34m\"DocumentId\"\u001b[0m\u001b[0;34m:\u001b[0m \u001b[0;34m\"s3://fake-bucket/rag/blogs/bar.md\"\u001b[0m\u001b[0;34m}\u001b[0m\u001b[0;34m,\u001b[0m\u001b[0;34m\u001b[0m\n",
      "\u001b[0;34m\u001b[0m            \u001b[0;34m]\u001b[0m\u001b[0;34m,\u001b[0m\u001b[0;34m\u001b[0m\n",
      "\u001b[0;34m\u001b[0m        \u001b[0;34m}\u001b[0m\u001b[0;34m,\u001b[0m\u001b[0;34m\u001b[0m\n",
      "\u001b[0;34m\u001b[0m        \u001b[0;31m# The third AWS API call is to check the output against Bedrock Guardrail\u001b[0m\u001b[0;34m\u001b[0m\n",
      "\u001b[0;34m\u001b[0m        \u001b[0;34m{\u001b[0m\u001b[0;34m\u001b[0m\n",
      "\u001b[0;34m\u001b[0m            \u001b[0;34m\"action\"\u001b[0m\u001b[0;34m:\u001b[0m \u001b[0;34m\"GUARDRAIL_INTERVENED\"\u001b[0m\u001b[0;34m,\u001b[0m\u001b[0;34m\u001b[0m\n",
      "\u001b[0;34m\u001b[0m            \u001b[0;34m\"ResponseMetadata\"\u001b[0m\u001b[0;34m:\u001b[0m \u001b[0;34m{\u001b[0m\u001b[0;34m\"RequestId\"\u001b[0m\u001b[0;34m:\u001b[0m \u001b[0;34m\"mock-request-id\"\u001b[0m\u001b[0;34m}\u001b[0m\u001b[0;34m,\u001b[0m\u001b[0;34m\u001b[0m\n",
      "\u001b[0;34m\u001b[0m        \u001b[0;34m}\u001b[0m\u001b[0;34m,\u001b[0m\u001b[0;34m\u001b[0m\n",
      "\u001b[0;34m\u001b[0m    \u001b[0;34m]\u001b[0m\u001b[0;34m\u001b[0m\n",
      "\u001b[0;34m\u001b[0m    \u001b[0mmock_llm\u001b[0m\u001b[0;34m.\u001b[0m\u001b[0mreturn_value\u001b[0m \u001b[0;34m=\u001b[0m \u001b[0;34m\"<answer>fake-answer</answer>\"\u001b[0m\u001b[0;34m\u001b[0m\n",
      "\u001b[0;34m\u001b[0m\u001b[0;34m\u001b[0m\n",
      "\u001b[0;34m\u001b[0m    \u001b[0mresponse\u001b[0m \u001b[0;34m=\u001b[0m \u001b[0mlambda_handler\u001b[0m\u001b[0;34m(\u001b[0m\u001b[0mmock_event\u001b[0m\u001b[0;34m,\u001b[0m \u001b[0;32mNone\u001b[0m\u001b[0;34m)\u001b[0m\u001b[0;34m\u001b[0m\n",
      "\u001b[0;34m\u001b[0m\u001b[0;34m\u001b[0m\n",
      "\u001b[0;34m\u001b[0m    \u001b[0;32massert\u001b[0m \u001b[0mresponse\u001b[0m\u001b[0;34m.\u001b[0m\u001b[0mget\u001b[0m\u001b[0;34m(\u001b[0m\u001b[0;34m\"statusCode\"\u001b[0m\u001b[0;34m)\u001b[0m \u001b[0;34m==\u001b[0m \u001b[0mHTTPStatus\u001b[0m\u001b[0;34m.\u001b[0m\u001b[0mBAD_REQUEST\u001b[0m\u001b[0;34m\u001b[0m\n",
      "\u001b[0;34m\u001b[0m    \u001b[0;32massert\u001b[0m \u001b[0;34m(\u001b[0m\u001b[0;34m\u001b[0m\n",
      "\u001b[0;34m\u001b[0m        \u001b[0mjson\u001b[0m\u001b[0;34m.\u001b[0m\u001b[0mloads\u001b[0m\u001b[0;34m(\u001b[0m\u001b[0mresponse\u001b[0m\u001b[0;34m.\u001b[0m\u001b[0mget\u001b[0m\u001b[0;34m(\u001b[0m\u001b[0;34m\"body\"\u001b[0m\u001b[0;34m)\u001b[0m\u001b[0;34m)\u001b[0m\u001b[0;34m.\u001b[0m\u001b[0mget\u001b[0m\u001b[0;34m(\u001b[0m\u001b[0;34m\"message\"\u001b[0m\u001b[0;34m)\u001b[0m \u001b[0;34m==\u001b[0m \u001b[0;34m\"Content was blocked by guardrail\"\u001b[0m\u001b[0;34m\u001b[0m\n",
      "\u001b[0;34m\u001b[0m    \u001b[0;34m)\u001b[0m\u001b[0;34m\u001b[0m\u001b[0;34m\u001b[0m\u001b[0m\n"
     ]
    }
   ],
   "source": [
    "%pycat solutions/lab2_ex2_tests.txt"
   ]
  },
  {
   "cell_type": "markdown",
   "metadata": {},
   "source": [
    "<div style=\"align: left; border: 4px solid royalblue; text-align: left; margin: auto; padding-left: 20px; padding-right: 20px; width: 65%\">\n",
    "        <img style=\"float: left; max-width: 100%; max-height:100%; margin: 15px;\" src=\"images/MLU_challenge.png\" alt=\"MLU challenge\" width=15% height=15%/>\n",
    "    <span style=\"padding: 20px; align: left;\">\n",
    "    <br/>\n",
    "    <p>Continue with these steps:</p>\n",
    "            <ol start=\"8\">\n",
    "                <li>From a Terminal in your Cloud Desktop and while you are inside <code>{Alias}MLUCourseLLMOps</code>, build the main application package.</li><br/>\n",
    "                <li>Move to the CDK package <code>{Alias}MLUCourseLLMOpsCDK</code>, build it and deploy the main service stack</li><br/>\n",
    "            </ol>\n",
    "            To do that, execute the cell below to get the exact commands that you need to run in the command line to trigger the builds and deployment.<br/>\n",
    "        <br/>\n",
    "    </span>\n",
    "</div>"
   ]
  },
  {
   "cell_type": "code",
   "execution_count": null,
   "metadata": {},
   "outputs": [],
   "source": [
    "display(Markdown(\"### Copy these commands and run them on your Cloud Desktop terminal to build the main application and the CDK packages and to deploy the main service stack.\"))\n",
    "\n",
    "print(f\"cd $(brazil-context workspace root)/src/{MAIN_PACKAGE_NAME}\")\n",
    "print(f\"brazil-build release\")\n",
    "\n",
    "print(f\"cd $(brazil-context workspace root)/src/{MAIN_PACKAGE_NAME}CDK\")\n",
    "print(f\"brazil-build && brazil-build run cdk deploy {MAIN_PACKAGE_NAME}-Service-alpha -- --hotswap --exclusively\")"
   ]
  },
  {
   "cell_type": "markdown",
   "metadata": {},
   "source": [
    "<div style=\"display: flex; align-items: center; justify-content: left; background-color:#330066; width:99%;\"> \n",
    "        <img style=\"float: left; max-width: 100%; max-height:100%; margin: 15px;\" src=\"images/MLU_robot.png\" alt=\"MLU robot\" width=\"100\" height=\"100\"/>\n",
    "    <span style=\"color: white; padding-left: 10px; align: left; margin: 15px;\">\n",
    "        <b>Did it succeed?</b>\n",
    "    <br/><br/>\n",
    "    If you see <code style=\"color: lightcoral;\">BUILD SUCCEEDED</code> you have successfully implemented your changes!\n",
    "    </span>\n",
    "</div>"
   ]
  },
  {
   "cell_type": "markdown",
   "metadata": {},
   "source": [
    "Once you have successfully deployed your main service stack, run the cells below and check whether the answers returned by the live system now contain the relevant links. "
   ]
  },
  {
   "cell_type": "code",
   "execution_count": 2,
   "metadata": {},
   "outputs": [],
   "source": [
    "# Modified function to make live requests and return the full json response rather than the \"answer\" key only\n",
    "def make_live_request_links(question):\n",
    "    credentials = session.get_credentials() \n",
    "    response = make_request(\n",
    "        uri=api_endpoint,\n",
    "        headers=headers,\n",
    "        method=\"POST\",\n",
    "        service=\"execute-api\",\n",
    "        data=json.dumps({\"question\": question}),\n",
    "        region=\"us-west-2\",\n",
    "        access_key=credentials.access_key,\n",
    "        secret_key=credentials.secret_key,\n",
    "        security_token=credentials.token,\n",
    "        data_binary=False,\n",
    "    )\n",
    "    if response.status_code != 200:\n",
    "        return \"Request failed. Check the CloudWatch logs in your Lambda application.\"\n",
    "    else:\n",
    "        return response.json()"
   ]
  },
  {
   "cell_type": "code",
   "execution_count": null,
   "metadata": {},
   "outputs": [],
   "source": [
    "unknown_questions = [\n",
    "    \"Is the .NET 8 runtime supported in AWS Lambda?\",\n",
    "    \"What built-in algorithms are supported in SageMaker?\",\n",
    "]\n",
    "\n",
    "display(Markdown(\"### Questions about AWS Services\"))\n",
    "for aws_q in unknown_questions:\n",
    "    display(Markdown(f\"**{aws_q}**\"))\n",
    "    response = make_live_request_links(aws_q)\n",
    "    display(Markdown(response[\"answer\"]))\n",
    "    display(Markdown(\"_References_\"))\n",
    "    for link in response[\"relevant_links\"]:\n",
    "        display(Markdown(f\" - {link}\"))"
   ]
  },
  {
   "cell_type": "markdown",
   "metadata": {},
   "source": [
    "### Checking that your modifications were successful\n",
    "\n",
    "Do the responses above contain reference links? \n",
    "\n",
    "**Are the found references relevant to the questions at hand?**"
   ]
  },
  {
   "cell_type": "markdown",
   "metadata": {},
   "source": [
    "***\n",
    "\n",
    "###### 3\n",
    "## <a>Part 3 - Commit your changes and update the pipeline</a>\n",
    "([Go to top](#0))\n",
    "\n",
    "As explained in Lab 1, there are several ways to trigger updates to the CloudFormation stacks that manage the deployment of the application. \n",
    "\n",
    "Deploying **using the CDK is temporary** and the deployment will eventually be overridden by a Pipelines deployment later, but can be useful for fast tests. This is so far the mechanism that we have used to update our service.\n",
    "\n",
    "Deploying **via Pipelines is recommended for real workload**, as it commits lasting changes to the code repositories.\n",
    "\n",
    "Once you're satisfied with the service improvements implemented in Exercises 1 and 2 above, it is time to push your changes into your packages and see them propagate to your pipeline. Follow the steps below to do so. \n",
    "\n",
    "\n",
    "<div style=\"align: left; border: 4px solid royalblue; text-align: left; margin: auto; padding-left: 20px; padding-right: 20px; width: 65%\">\n",
    "        <img style=\"float: left; max-width: 100%; max-height:100%; margin: 15px;\" src=\"images/MLU_challenge.png\" alt=\"MLU challenge\" width=15% height=15%/>\n",
    "    <span style=\"padding: 20px; align: left;\">\n",
    "        <p><b>Try it yourself!</b><p/>\n",
    "        <p><b>Exercise 3.</b> It is time to make your changes permanent by committing them to your packages.\n",
    "        Follow these steps:</p>\n",
    "            <ol>\n",
    "                <li>From a Terminal in your Cloud Desktop, navigate to the Data package. Then, using git, add, commit, and push your changes to the Data package.</li><br/>\n",
    "            </ol>\n",
    "            To do that, execute the cell below to get the exact commands that you need to run in the command line to commit the changes.<br/>\n",
    "            <br/>\n",
    "    </span>\n",
    "</div>\n"
   ]
  },
  {
   "cell_type": "code",
   "execution_count": 4,
   "metadata": {},
   "outputs": [
    {
     "data": {
      "text/markdown": [
       "### Copy these commands and run them on your Cloud Desktop terminal to commit your changes to your Data package."
      ],
      "text/plain": [
       "<IPython.core.display.Markdown object>"
      ]
     },
     "metadata": {},
     "output_type": "display_data"
    },
    {
     "name": "stdout",
     "output_type": "stream",
     "text": [
      "cd $(brazil-context workspace root)/src/KoachangMLUCourseLLMOpsData\n",
      "git add -u\n",
      "git add public/rag\n",
      "git commit -m \"Add data sources to Kendra and bump data version\"\n",
      "kinit -f\n",
      "git push\n"
     ]
    }
   ],
   "source": [
    "display(Markdown(\"### Copy these commands and run them on your Cloud Desktop terminal to commit your changes to your Data package.\"))\n",
    "\n",
    "print(f\"cd $(brazil-context workspace root)/src/{MAIN_PACKAGE_NAME}Data\")\n",
    "\n",
    "print(\"git add -u\\ngit add public/rag\")\n",
    "print('git commit -m \"Add data sources to Kendra and bump data version\"')\n",
    "print(\"kinit -f\\ngit push\")"
   ]
  },
  {
   "cell_type": "markdown",
   "metadata": {},
   "source": [
    "<div style=\"align: left; border: 4px solid royalblue; text-align: left; margin: auto; padding-left: 20px; padding-right: 20px; width: 65%\">\n",
    "        <img style=\"float: left; max-width: 100%; max-height:100%; margin: 15px;\" src=\"images/MLU_challenge.png\" alt=\"MLU challenge\" width=15% height=15%/>\n",
    "    <span style=\"padding: 20px; align: left;\">\n",
    "        <p>Continue with these steps:<p/>\n",
    "            <ol start=\"2\">\n",
    "                <li>From a Terminal in your Cloud Desktop, navigate to the main application package. Then, using git, add, commit, and push your changes to the main package.</li><br/>\n",
    "                To do that, execute the cell below to get the exact commands that you need to run in the command line to commit the changes.<br/>\n",
    "            </ol>\n",
    "        <br/>\n",
    "    </span>\n",
    "</div>\n"
   ]
  },
  {
   "cell_type": "code",
   "execution_count": 1,
   "metadata": {},
   "outputs": [
    {
     "ename": "NameError",
     "evalue": "name 'Markdown' is not defined",
     "output_type": "error",
     "traceback": [
      "\u001b[0;31m---------------------------------------------------------------------------\u001b[0m",
      "\u001b[0;31mNameError\u001b[0m                                 Traceback (most recent call last)",
      "Cell \u001b[0;32mIn[1], line 1\u001b[0m\n\u001b[0;32m----> 1\u001b[0m display(\u001b[43mMarkdown\u001b[49m(\u001b[38;5;124m\"\u001b[39m\u001b[38;5;124m### Copy these commands and run them on your Cloud Desktop terminal to commit your changes to your main application package.\u001b[39m\u001b[38;5;124m\"\u001b[39m))\n\u001b[1;32m      3\u001b[0m \u001b[38;5;28mprint\u001b[39m(\u001b[38;5;124mf\u001b[39m\u001b[38;5;124m\"\u001b[39m\u001b[38;5;124mcd $(brazil-context workspace root)/src/\u001b[39m\u001b[38;5;132;01m{\u001b[39;00mMAIN_PACKAGE_NAME\u001b[38;5;132;01m}\u001b[39;00m\u001b[38;5;124m\"\u001b[39m)\n\u001b[1;32m      5\u001b[0m \u001b[38;5;28mprint\u001b[39m(\u001b[38;5;124m\"\u001b[39m\u001b[38;5;124mgit add -u\u001b[39m\u001b[38;5;124m\"\u001b[39m)\n",
      "\u001b[0;31mNameError\u001b[0m: name 'Markdown' is not defined"
     ]
    }
   ],
   "source": [
    "display(Markdown(\"### Copy these commands and run them on your Cloud Desktop terminal to commit your changes to your main application package.\"))\n",
    "\n",
    "print(f\"cd $(brazil-context workspace root)/src/{MAIN_PACKAGE_NAME}\")\n",
    "\n",
    "print(\"git add -u\")\n",
    "print('git commit -m \"Modify lambda handler to return relevant documents. Adapt tests.\"')\n",
    "print(\"git push\")"
   ]
  },
  {
   "cell_type": "markdown",
   "metadata": {},
   "source": [
    "Wait for the changes to propagate through the pipeline.\n",
    "\n",
    "You can refresh and follow the status of your pipeline, which is located at:"
   ]
  },
  {
   "cell_type": "code",
   "execution_count": null,
   "metadata": {},
   "outputs": [],
   "source": [
    "display(f\"https://pipelines.amazon.com/pipelines/{MAIN_PACKAGE_NAME}\")"
   ]
  },
  {
   "cell_type": "markdown",
   "metadata": {},
   "source": [
    "<div style=\"align: left; border: 4px solid lightcoral; text-align: left; margin: auto; padding-left: 20px; padding-right: 20px; width: 65%\">\n",
    "        <img style=\"float: left; max-width: 100%; max-height:100%; margin: 15px;\" src=\"images/MLU_question.png\" alt=\"MLU solution\" width=15% height=15%/>\n",
    "    <span style=\"padding: 20px; align: left;\">\n",
    "        <p><br/><b>Challenge Help</b><p/>\n",
    "        <p><b>Exercise 3.</b> While the changes are being propagated through the pipeline, you can click on the builds in progress and see how the different parts of the application get updated.</p>\n",
    "        <p>Deployment via Pipelines might take up to one hour to complete.</p>\n",
    "        <br/>\n",
    "    </span>\n",
    "</div>"
   ]
  },
  {
   "cell_type": "markdown",
   "metadata": {},
   "source": [
    "<div style=\"display: flex; align-items: center; justify-content: left; background-color:#330066; width:99%;\"> \n",
    "        <img style=\"float: left; max-width: 100%; max-height:100%; margin: 15px;\" src=\"images/MLU_robot.png\" alt=\"MLU robot\" width=\"100\" height=\"100\"/>\n",
    "    <span style=\"color: white; padding-left: 10px; align: left; margin: 15px;\">\n",
    "        <h3>Congratulations!</h3>\n",
    "        You have completed Lab 2 of MLU's course Operationalizing Generative AI with LLMOps.\n",
    "        <br/>\n",
    "    </span>\n",
    "</div>"
   ]
  }
 ],
 "metadata": {
  "kernelspec": {
   "display_name": "Python 3 (ipykernel)",
   "language": "python",
   "name": "python3"
  },
  "language_info": {
   "codemirror_mode": {
    "name": "ipython",
    "version": 3
   },
   "file_extension": ".py",
   "mimetype": "text/x-python",
   "name": "python",
   "nbconvert_exporter": "python",
   "pygments_lexer": "ipython3",
   "version": "3.12.4"
  }
 },
 "nbformat": 4,
 "nbformat_minor": 2
}
